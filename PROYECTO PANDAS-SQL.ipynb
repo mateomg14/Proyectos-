{
 "cells": [
  {
   "cell_type": "code",
   "execution_count": null,
   "metadata": {},
   "outputs": [],
   "source": [
    "import mysql.connector as sql\n",
    "import pandas as pd "
   ]
  },
  {
   "cell_type": "code",
   "execution_count": null,
   "metadata": {},
   "outputs": [],
   "source": [
    "def create_database():\n",
    "    ## conectarse a la base de datos \n",
    "    con = sql.connect(user='m.martinez11',password='gotenssj5',host='localhost', database='datos',port='3306') \n",
    "    cur=con.cursor()\n",
    "    con.commit()\n",
    "\n",
    "    cur.execute(\"DROP DATABASE IF EXISTS accounts\")\n",
    "    cur.execute(\"CREATE DATABASE accounts\")\n",
    "    cur.close()\n",
    "    con = sql.connect(user='m.martinez11',password='gotenssj5',host='localhost', database='accounts',port='3306')\n",
    "    cur=con.cursor()\n",
    "    return cur,con \n"
   ]
  },
  {
   "cell_type": "code",
   "execution_count": null,
   "metadata": {},
   "outputs": [],
   "source": [
    "def drop_tables(cur,con):\n",
    "    for query in drop_table_queries:\n",
    "        cur.execute(query)\n",
    "        con.commit()    "
   ]
  },
  {
   "cell_type": "code",
   "execution_count": null,
   "metadata": {},
   "outputs": [],
   "source": [
    "def create_tables(cur,con):\n",
    "    for query in create_table_queries:\n",
    "        cur.execute(query)\n",
    "        con.commit() "
   ]
  },
  {
   "cell_type": "code",
   "execution_count": null,
   "metadata": {},
   "outputs": [],
   "source": [
    "AccountsCountry=pd.read_csv(\"Wealth-AccountsCountry.csv\")"
   ]
  },
  {
   "cell_type": "code",
   "execution_count": null,
   "metadata": {},
   "outputs": [],
   "source": [
    "AccountsCountry.head()"
   ]
  },
  {
   "cell_type": "code",
   "execution_count": null,
   "metadata": {},
   "outputs": [],
   "source": [
    "AccountsCountry_clean=AccountsCountry[[\"Code\",\"Short Name\",\"Table Name\",\"Long Name\",\"Currency Unit\"]]"
   ]
  },
  {
   "cell_type": "code",
   "execution_count": null,
   "metadata": {},
   "outputs": [],
   "source": [
    "AccountsCountry_clean.head()"
   ]
  },
  {
   "cell_type": "code",
   "execution_count": null,
   "metadata": {},
   "outputs": [],
   "source": [
    "AccountsData=pd.read_csv(\"Wealth-AccountData.csv\")"
   ]
  },
  {
   "cell_type": "code",
   "execution_count": null,
   "metadata": {},
   "outputs": [],
   "source": [
    "AccountsData.head()"
   ]
  },
  {
   "cell_type": "code",
   "execution_count": null,
   "metadata": {},
   "outputs": [],
   "source": [
    "AccountsData.columns"
   ]
  },
  {
   "cell_type": "code",
   "execution_count": null,
   "metadata": {},
   "outputs": [],
   "source": [
    "AccountsData=AccountsData[[\"Country Name\",\"Country Code\",\"Series Code\",\"1996 [YR1996]\",\"1997 [YR1997]\",\"1998 [YR1998]\"]]"
   ]
  },
  {
   "cell_type": "code",
   "execution_count": null,
   "metadata": {},
   "outputs": [],
   "source": [
    "AccountSeries=pd.read_csv(\"Wealth-AccountSeries.csv\")"
   ]
  },
  {
   "cell_type": "code",
   "execution_count": null,
   "metadata": {},
   "outputs": [],
   "source": [
    "AccountSeries=AccountSeries[[\"Code\",\"Topic\",\"Indicator Name\",\"Long definition\"]]"
   ]
  },
  {
   "cell_type": "code",
   "execution_count": null,
   "metadata": {},
   "outputs": [],
   "source": [
    "AccountSeries.head()"
   ]
  },
  {
   "cell_type": "code",
   "execution_count": null,
   "metadata": {},
   "outputs": [],
   "source": [
    "cur , conn=create_database()"
   ]
  },
  {
   "cell_type": "code",
   "execution_count": null,
   "metadata": {},
   "outputs": [],
   "source": [
    "songplay_table_create=(\"\"\"CREATE TABLE IF NOT EXISTS accountscountry (\n",
    "country_code VARCHAR(255),\n",
    "short_name VARCHAR(255),\n",
    "table_name VARCHAR(255),\n",
    "long_name VARCHAR(255),\n",
    "currency_unit VARCHAR(255)\n",
    ")\n",
    " \"\"\")"
   ]
  },
  {
   "cell_type": "code",
   "execution_count": null,
   "metadata": {},
   "outputs": [],
   "source": [
    "conn.commit()"
   ]
  },
  {
   "cell_type": "code",
   "execution_count": null,
   "metadata": {},
   "outputs": [],
   "source": [
    "cur.execute(songplay_table_create)\n",
    "conn.commit()"
   ]
  },
  {
   "cell_type": "code",
   "execution_count": null,
   "metadata": {},
   "outputs": [],
   "source": [
    "accounts_data_table_create=(\"\"\"CREATE TABLE IF NOT EXISTS accountsdata (\n",
    "country_name VARCHAR(255),\n",
    "country_code VARCHAR(255),\n",
    "indicator_name VARCHAR(255),\n",
    "year_1996 numeric(38,0),\n",
    "year_1997 numeric(38,0),\n",
    "year_1998 numeric(38,0)\n",
    ")\n",
    " \"\"\")\n",
    "cur.execute(accounts_data_table_create)\n",
    "conn.commit()"
   ]
  },
  {
   "cell_type": "code",
   "execution_count": null,
   "metadata": {},
   "outputs": [],
   "source": [
    "accountsseries_data_table_create=(\"\"\"CREATE TABLE IF NOT EXISTS accountseries (\n",
    "series_code VARCHAR(255) ,\n",
    "topic VARCHAR(255),\n",
    "indicator_name VARCHAR(255),\n",
    "short_definition numeric(38,0)\n",
    ")\n",
    " \"\"\")\n",
    "cur.execute(accountsseries_data_table_create)\n",
    "conn.commit()   "
   ]
  },
  {
   "cell_type": "code",
   "execution_count": null,
   "metadata": {},
   "outputs": [],
   "source": [
    "accounts_country_table_insert=(\"\"\"INSERT INTO accountscountry(\n",
    "country_code,\n",
    "short_name,\n",
    "table_name,\n",
    "long_name,\n",
    "currency_unit)\n",
    "VALUES (%s,%s,%s,%s,%s)\n",
    "\n",
    "\"\"\")"
   ]
  },
  {
   "cell_type": "code",
   "execution_count": null,
   "metadata": {},
   "outputs": [],
   "source": [
    "for i, row in AccountsCountry_clean.iterrows():\n",
    "    \n",
    "    cur.execute(accounts_country_table_insert,list(row))"
   ]
  },
  {
   "cell_type": "code",
   "execution_count": null,
   "metadata": {},
   "outputs": [],
   "source": [
    "conn.commit()"
   ]
  },
  {
   "cell_type": "code",
   "execution_count": null,
   "metadata": {},
   "outputs": [],
   "source": [
    "accounts_data_table_insert=(\"\"\"INSERT INTO accountsdata(\n",
    "country_name,\n",
    "country_code,\n",
    "indicator_name,\n",
    "year_1996,\n",
    "year_1997,\n",
    "year_1998 )\n",
    "VALUES (%s,%s,%s,%s,%s,%s)\n",
    "\n",
    "\"\"\")"
   ]
  },
  {
   "cell_type": "code",
   "execution_count": null,
   "metadata": {},
   "outputs": [],
   "source": [
    "for i, row in AccountsData.iterrows():\n",
    "    print(list(row))\n",
    "    cur.execute(accounts_data_table_insert,list(row))\n",
    "\n",
    "conn.commit()"
   ]
  },
  {
   "cell_type": "code",
   "execution_count": null,
   "metadata": {},
   "outputs": [],
   "source": [
    "accountsseries_data_table_insert=(\"\"\"INSERT INTO accountseries(\n",
    "country_name,\n",
    "country_code,\n",
    "indicator_name,\n",
    "year_1996,\n",
    "year_1997,\n",
    "year_1998 )\n",
    "VALUES (%s,%s,%s,%s,%s,%s)\n",
    "\n",
    "\"\"\")"
   ]
  },
  {
   "cell_type": "code",
   "execution_count": null,
   "metadata": {},
   "outputs": [],
   "source": [
    "## https://www.youtube.com/watch?v=POjDCe-_G8k"
   ]
  }
 ],
 "metadata": {
  "kernelspec": {
   "display_name": "Python 3",
   "language": "python",
   "name": "python3"
  },
  "language_info": {
   "codemirror_mode": {
    "name": "ipython",
    "version": 3
   },
   "file_extension": ".py",
   "mimetype": "text/x-python",
   "name": "python",
   "nbconvert_exporter": "python",
   "pygments_lexer": "ipython3",
   "version": "3.10.10"
  },
  "orig_nbformat": 4
 },
 "nbformat": 4,
 "nbformat_minor": 2
}
