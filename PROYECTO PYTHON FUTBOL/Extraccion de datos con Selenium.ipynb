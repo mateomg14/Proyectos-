{
 "cells": [
  {
   "attachments": {},
   "cell_type": "markdown",
   "metadata": {},
   "source": [
    "### EXTRACCION DE DATOS CON SELENIUM "
   ]
  },
  {
   "cell_type": "code",
   "execution_count": 85,
   "metadata": {},
   "outputs": [],
   "source": [
    "from selenium import webdriver\n",
    "from selenium.webdriver.chrome.service import Service\n",
    "import pandas as pd\n",
    "import time"
   ]
  },
  {
   "cell_type": "code",
   "execution_count": 82,
   "metadata": {},
   "outputs": [],
   "source": [
    "## inizializar Selenium \n",
    "path = 'C:\\\\Users\\\\mmart\\\\OneDrive\\\\Escritorio\\\\Mateo\\\\chromedriver_win32\\\\chromedriver.exe'\n",
    "service = Service(executable_path=path)\n",
    "driver=webdriver.Chrome(service=service)\n"
   ]
  },
  {
   "cell_type": "code",
   "execution_count": 86,
   "metadata": {},
   "outputs": [],
   "source": [
    "## Extraccion para todos los años, se define la funcion\n",
    "path = 'C:\\\\Users\\\\mmart\\\\OneDrive\\\\Escritorio\\\\Mateo\\\\chromedriver_win32\\\\chromedriver.exe'\n",
    "service = Service(executable_path=path)\n",
    "driver=webdriver.Chrome(service=service)\n",
    "\n",
    "def obtener_data_faltante(year):\n",
    "    web = f\"https://en.wikipedia.org/wiki/{year}_FIFA_World_Cup\"\n",
    "    driver.get(web)\n",
    "    ## Buscar utilizando el webdriver por el metodo xpath\n",
    "    matches= driver.find_elements(by=\"xpath\",value='//tr[@itemprop=\"name\"]')\n",
    "    home=[]\n",
    "    score=[]\n",
    "    away=[]\n",
    "    for match in matches:\n",
    "        home.append(match.find_element(by=\"xpath\",value='th[1]').text)\n",
    "        score.append(match.find_element(by=\"xpath\",value='th[2]').text)\n",
    "        away.append(match.find_element(by=\"xpath\",value='th[3]').text)\n",
    "\n",
    "    dict_football={\"home\":home,\"score\":score,\"away\":away}\n",
    "    df_football=pd.DataFrame(dict_football)\n",
    "    df_football[\"year\"]=year\n",
    "    time.sleep(2)\n",
    "    return df_football\n",
    "\n",
    "years=[1930,1934,1938,1950,1954,1958,1962,1966,1970,1974,1978,1982,1986,1990,1994,1998,2002,2006,2010,2014,2018]\n",
    "fifa= [obtener_data_faltante(year) for year in years]\n",
    "driver.quit()\n",
    "df_fifa= pd.concat(fifa,ignore_index=True)\n",
    "df_fifa.to_csv(\"df_fifa_selenium.csv\", index=False)\n"
   ]
  },
  {
   "cell_type": "code",
   "execution_count": 73,
   "metadata": {},
   "outputs": [],
   "source": [
    "## Buscar utilizando el webdriver por el metodo xpath\n",
    "matches= driver.find_elements(by=\"xpath\",value='//tr[@itemprop=\"name\"]')"
   ]
  },
  {
   "cell_type": "code",
   "execution_count": 74,
   "metadata": {},
   "outputs": [],
   "source": [
    "##extraccion de datos\n",
    "home=[]\n",
    "score=[]\n",
    "away=[]\n",
    "for match in matches:\n",
    "    home.append(match.find_element(by=\"xpath\",value='th[1]').text)\n",
    "    score.append(match.find_element(by=\"xpath\",value='th[2]').text)\n",
    "    away.append(match.find_element(by=\"xpath\",value='th[3]').text)\n",
    "dict_football={\"home\":home,\"score\":score,\"away\":away}\n",
    "df_football=pd.DataFrame(dict_football)\n",
    "time.sleep(2)\n",
    "driver.quit()\n",
    "df_football.to_csv(\"test_1982.csv\")"
   ]
  }
 ],
 "metadata": {
  "kernelspec": {
   "display_name": "Python 3",
   "language": "python",
   "name": "python3"
  },
  "language_info": {
   "codemirror_mode": {
    "name": "ipython",
    "version": 3
   },
   "file_extension": ".py",
   "mimetype": "text/x-python",
   "name": "python",
   "nbconvert_exporter": "python",
   "pygments_lexer": "ipython3",
   "version": "3.10.10"
  },
  "orig_nbformat": 4
 },
 "nbformat": 4,
 "nbformat_minor": 2
}
