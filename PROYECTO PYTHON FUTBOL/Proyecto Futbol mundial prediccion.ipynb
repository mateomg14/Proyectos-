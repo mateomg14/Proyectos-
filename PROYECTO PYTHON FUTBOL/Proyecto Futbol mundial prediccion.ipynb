{
 "cells": [
  {
   "attachments": {},
   "cell_type": "markdown",
   "metadata": {},
   "source": [
    "### EXTRACCION DE LOS DATOS BEAUTIFUL SOUP"
   ]
  },
  {
   "cell_type": "code",
   "execution_count": 1,
   "metadata": {},
   "outputs": [],
   "source": [
    "import pandas as pd ##Pandas nunca falta \n",
    "from lxml import html ##lxml para leer paginas en html\n",
    "from string import ascii_uppercase as alfabeto\n",
    "import pickle"
   ]
  },
  {
   "cell_type": "code",
   "execution_count": 2,
   "metadata": {},
   "outputs": [],
   "source": [
    "## Aca se trae los documentos html en este caso se quiere extraer las tablas vacias de el mundial 2022\n",
    "todas_tablas=pd.read_html(\"https://web.archive.org/web/20221115040351/https://en.wikipedia.org/wiki/2022_FIFA_World_Cup\", encoding=\"utf-8\")"
   ]
  },
  {
   "cell_type": "code",
   "execution_count": 3,
   "metadata": {},
   "outputs": [
    {
     "data": {
      "text/html": [
       "<div>\n",
       "<style scoped>\n",
       "    .dataframe tbody tr th:only-of-type {\n",
       "        vertical-align: middle;\n",
       "    }\n",
       "\n",
       "    .dataframe tbody tr th {\n",
       "        vertical-align: top;\n",
       "    }\n",
       "\n",
       "    .dataframe thead th {\n",
       "        text-align: right;\n",
       "    }\n",
       "</style>\n",
       "<table border=\"1\" class=\"dataframe\">\n",
       "  <thead>\n",
       "    <tr style=\"text-align: right;\">\n",
       "      <th></th>\n",
       "      <th>Pos</th>\n",
       "      <th>Team.mw-parser-output .navbar{display:inline;font-size:88%;font-weight:normal}.mw-parser-output .navbar-collapse{float:left;text-align:left}.mw-parser-output .navbar-boxtext{word-spacing:0}.mw-parser-output .navbar ul{display:inline-block;white-space:nowrap;line-height:inherit}.mw-parser-output .navbar-brackets::before{margin-right:-0.125em;content:\"[ \"}.mw-parser-output .navbar-brackets::after{margin-left:-0.125em;content:\" ]\"}.mw-parser-output .navbar li{word-spacing:-0.125em}.mw-parser-output .navbar a&gt;span,.mw-parser-output .navbar a&gt;abbr{text-decoration:inherit}.mw-parser-output .navbar-mini abbr{font-variant:small-caps;border-bottom:none;text-decoration:none;cursor:inherit}.mw-parser-output .navbar-ct-full{font-size:114%;margin:0 7em}.mw-parser-output .navbar-ct-mini{font-size:114%;margin:0 4em}vte</th>\n",
       "      <th>Pld</th>\n",
       "      <th>W</th>\n",
       "      <th>D</th>\n",
       "      <th>L</th>\n",
       "      <th>GF</th>\n",
       "      <th>GA</th>\n",
       "      <th>GD</th>\n",
       "      <th>Pts</th>\n",
       "      <th>Qualification</th>\n",
       "    </tr>\n",
       "  </thead>\n",
       "  <tbody>\n",
       "    <tr>\n",
       "      <th>0</th>\n",
       "      <td>1</td>\n",
       "      <td>Qatar (H)</td>\n",
       "      <td>0</td>\n",
       "      <td>0</td>\n",
       "      <td>0</td>\n",
       "      <td>0</td>\n",
       "      <td>0</td>\n",
       "      <td>0</td>\n",
       "      <td>0</td>\n",
       "      <td>0</td>\n",
       "      <td>Advance to knockout stage</td>\n",
       "    </tr>\n",
       "    <tr>\n",
       "      <th>1</th>\n",
       "      <td>2</td>\n",
       "      <td>Ecuador</td>\n",
       "      <td>0</td>\n",
       "      <td>0</td>\n",
       "      <td>0</td>\n",
       "      <td>0</td>\n",
       "      <td>0</td>\n",
       "      <td>0</td>\n",
       "      <td>0</td>\n",
       "      <td>0</td>\n",
       "      <td>Advance to knockout stage</td>\n",
       "    </tr>\n",
       "    <tr>\n",
       "      <th>2</th>\n",
       "      <td>3</td>\n",
       "      <td>Senegal</td>\n",
       "      <td>0</td>\n",
       "      <td>0</td>\n",
       "      <td>0</td>\n",
       "      <td>0</td>\n",
       "      <td>0</td>\n",
       "      <td>0</td>\n",
       "      <td>0</td>\n",
       "      <td>0</td>\n",
       "      <td>NaN</td>\n",
       "    </tr>\n",
       "    <tr>\n",
       "      <th>3</th>\n",
       "      <td>4</td>\n",
       "      <td>Netherlands</td>\n",
       "      <td>0</td>\n",
       "      <td>0</td>\n",
       "      <td>0</td>\n",
       "      <td>0</td>\n",
       "      <td>0</td>\n",
       "      <td>0</td>\n",
       "      <td>0</td>\n",
       "      <td>0</td>\n",
       "      <td>NaN</td>\n",
       "    </tr>\n",
       "  </tbody>\n",
       "</table>\n",
       "</div>"
      ],
      "text/plain": [
       "   Pos  \\\n",
       "0    1   \n",
       "1    2   \n",
       "2    3   \n",
       "3    4   \n",
       "\n",
       "  Team.mw-parser-output .navbar{display:inline;font-size:88%;font-weight:normal}.mw-parser-output .navbar-collapse{float:left;text-align:left}.mw-parser-output .navbar-boxtext{word-spacing:0}.mw-parser-output .navbar ul{display:inline-block;white-space:nowrap;line-height:inherit}.mw-parser-output .navbar-brackets::before{margin-right:-0.125em;content:\"[ \"}.mw-parser-output .navbar-brackets::after{margin-left:-0.125em;content:\" ]\"}.mw-parser-output .navbar li{word-spacing:-0.125em}.mw-parser-output .navbar a>span,.mw-parser-output .navbar a>abbr{text-decoration:inherit}.mw-parser-output .navbar-mini abbr{font-variant:small-caps;border-bottom:none;text-decoration:none;cursor:inherit}.mw-parser-output .navbar-ct-full{font-size:114%;margin:0 7em}.mw-parser-output .navbar-ct-mini{font-size:114%;margin:0 4em}vte  \\\n",
       "0                                          Qatar (H)                                                                                                                                                                                                                                                                                                                                                                                                                                                                                                                                                                                                                                                                                                                                                                                                \n",
       "1                                            Ecuador                                                                                                                                                                                                                                                                                                                                                                                                                                                                                                                                                                                                                                                                                                                                                                                                \n",
       "2                                            Senegal                                                                                                                                                                                                                                                                                                                                                                                                                                                                                                                                                                                                                                                                                                                                                                                                \n",
       "3                                        Netherlands                                                                                                                                                                                                                                                                                                                                                                                                                                                                                                                                                                                                                                                                                                                                                                                                \n",
       "\n",
       "   Pld  W  D  L  GF  GA  GD  Pts              Qualification  \n",
       "0    0  0  0  0   0   0   0    0  Advance to knockout stage  \n",
       "1    0  0  0  0   0   0   0    0  Advance to knockout stage  \n",
       "2    0  0  0  0   0   0   0    0                        NaN  \n",
       "3    0  0  0  0   0   0   0    0                        NaN  "
      ]
     },
     "execution_count": 3,
     "metadata": {},
     "output_type": "execute_result"
    }
   ],
   "source": [
    "todas_tablas[12]"
   ]
  },
  {
   "cell_type": "code",
   "execution_count": 4,
   "metadata": {},
   "outputs": [
    {
     "data": {
      "text/html": [
       "<div>\n",
       "<style scoped>\n",
       "    .dataframe tbody tr th:only-of-type {\n",
       "        vertical-align: middle;\n",
       "    }\n",
       "\n",
       "    .dataframe tbody tr th {\n",
       "        vertical-align: top;\n",
       "    }\n",
       "\n",
       "    .dataframe thead th {\n",
       "        text-align: right;\n",
       "    }\n",
       "</style>\n",
       "<table border=\"1\" class=\"dataframe\">\n",
       "  <thead>\n",
       "    <tr style=\"text-align: right;\">\n",
       "      <th></th>\n",
       "      <th>Pos</th>\n",
       "      <th>Teamvte</th>\n",
       "      <th>Pld</th>\n",
       "      <th>W</th>\n",
       "      <th>D</th>\n",
       "      <th>L</th>\n",
       "      <th>GF</th>\n",
       "      <th>GA</th>\n",
       "      <th>GD</th>\n",
       "      <th>Pts</th>\n",
       "      <th>Qualification</th>\n",
       "    </tr>\n",
       "  </thead>\n",
       "  <tbody>\n",
       "    <tr>\n",
       "      <th>0</th>\n",
       "      <td>1</td>\n",
       "      <td>Portugal</td>\n",
       "      <td>0</td>\n",
       "      <td>0</td>\n",
       "      <td>0</td>\n",
       "      <td>0</td>\n",
       "      <td>0</td>\n",
       "      <td>0</td>\n",
       "      <td>0</td>\n",
       "      <td>0</td>\n",
       "      <td>Advance to knockout stage</td>\n",
       "    </tr>\n",
       "    <tr>\n",
       "      <th>1</th>\n",
       "      <td>2</td>\n",
       "      <td>Ghana</td>\n",
       "      <td>0</td>\n",
       "      <td>0</td>\n",
       "      <td>0</td>\n",
       "      <td>0</td>\n",
       "      <td>0</td>\n",
       "      <td>0</td>\n",
       "      <td>0</td>\n",
       "      <td>0</td>\n",
       "      <td>Advance to knockout stage</td>\n",
       "    </tr>\n",
       "    <tr>\n",
       "      <th>2</th>\n",
       "      <td>3</td>\n",
       "      <td>Uruguay</td>\n",
       "      <td>0</td>\n",
       "      <td>0</td>\n",
       "      <td>0</td>\n",
       "      <td>0</td>\n",
       "      <td>0</td>\n",
       "      <td>0</td>\n",
       "      <td>0</td>\n",
       "      <td>0</td>\n",
       "      <td>NaN</td>\n",
       "    </tr>\n",
       "    <tr>\n",
       "      <th>3</th>\n",
       "      <td>4</td>\n",
       "      <td>South Korea</td>\n",
       "      <td>0</td>\n",
       "      <td>0</td>\n",
       "      <td>0</td>\n",
       "      <td>0</td>\n",
       "      <td>0</td>\n",
       "      <td>0</td>\n",
       "      <td>0</td>\n",
       "      <td>0</td>\n",
       "      <td>NaN</td>\n",
       "    </tr>\n",
       "  </tbody>\n",
       "</table>\n",
       "</div>"
      ],
      "text/plain": [
       "   Pos      Teamvte  Pld  W  D  L  GF  GA  GD  Pts              Qualification\n",
       "0    1     Portugal    0  0  0  0   0   0   0    0  Advance to knockout stage\n",
       "1    2        Ghana    0  0  0  0   0   0   0    0  Advance to knockout stage\n",
       "2    3      Uruguay    0  0  0  0   0   0   0    0                        NaN\n",
       "3    4  South Korea    0  0  0  0   0   0   0    0                        NaN"
      ]
     },
     "execution_count": 4,
     "metadata": {},
     "output_type": "execute_result"
    }
   ],
   "source": [
    "#A-->H\n",
    "#Extraccion de tablas de la pagina web, cambia cada 7 indices \n",
    "todas_tablas[61]"
   ]
  },
  {
   "cell_type": "code",
   "execution_count": 5,
   "metadata": {},
   "outputs": [
    {
     "data": {
      "text/plain": [
       "'ABCDEFGHIJKLMNOPQRSTUVWXYZ'"
      ]
     },
     "execution_count": 5,
     "metadata": {},
     "output_type": "execute_result"
    }
   ],
   "source": [
    "alfabeto"
   ]
  },
  {
   "cell_type": "code",
   "execution_count": 6,
   "metadata": {},
   "outputs": [
    {
     "name": "stdout",
     "output_type": "stream",
     "text": [
      "A 11\n",
      "B 18\n",
      "C 25\n",
      "D 32\n",
      "E 39\n",
      "F 46\n",
      "G 53\n",
      "H 60\n"
     ]
    }
   ],
   "source": [
    "## uso de la funcion ZIP para aplicar la letra del grupo a cada dataframe \n",
    "for letra, i in zip (alfabeto,range(11,67,7)):\n",
    "    print(letra,i)"
   ]
  },
  {
   "cell_type": "code",
   "execution_count": 12,
   "metadata": {},
   "outputs": [],
   "source": [
    "todas_tablas=pd.read_html(\"https://web.archive.org/web/20221115040351/https://en.wikipedia.org/wiki/2022_FIFA_World_Cup\", encoding=\"utf-8\")\n",
    "dict_tablas={} ##diccionario vacio que va a permitir almacenar los dataframes\n",
    "for letra , i in zip(alfabeto, range(12,68,7)):  ## Se hace un for para extraer todas las columnas \n",
    "    df= todas_tablas[i]\n",
    "    df.rename(columns={df.columns[1]:\"Team\"}, inplace=True) ## aca se quiere cambiar las columnas Teamvte a Team \n",
    "    df.pop(\"Qualification\") ## se elimina la columna Qualification \n",
    "    dict_tablas[f'Group {letra}']=df ##aca se añaden los grupos a el diccionario "
   ]
  },
  {
   "cell_type": "code",
   "execution_count": 13,
   "metadata": {},
   "outputs": [
    {
     "data": {
      "text/plain": [
       "dict_keys(['Group A', 'Group B', 'Group C', 'Group D', 'Group E', 'Group F', 'Group G', 'Group H'])"
      ]
     },
     "execution_count": 13,
     "metadata": {},
     "output_type": "execute_result"
    }
   ],
   "source": [
    "dict_tablas.keys() ##funcion keys para devolver todos los elementos que son grupos"
   ]
  },
  {
   "cell_type": "code",
   "execution_count": 14,
   "metadata": {},
   "outputs": [
    {
     "ename": "KeyError",
     "evalue": "'Grupo A'",
     "output_type": "error",
     "traceback": [
      "\u001b[1;31m---------------------------------------------------------------------------\u001b[0m",
      "\u001b[1;31mKeyError\u001b[0m                                  Traceback (most recent call last)",
      "Cell \u001b[1;32mIn[14], line 1\u001b[0m\n\u001b[1;32m----> 1\u001b[0m dict_tablas[\u001b[39m\"\u001b[39;49m\u001b[39mGrupo A\u001b[39;49m\u001b[39m\"\u001b[39;49m]\n",
      "\u001b[1;31mKeyError\u001b[0m: 'Grupo A'"
     ]
    }
   ],
   "source": [
    "dict_tablas[\"Grupo A\"]"
   ]
  },
  {
   "cell_type": "code",
   "execution_count": 15,
   "metadata": {},
   "outputs": [],
   "source": [
    "## exportar Diccionario con libreria pickle, para poder utilizarlo en donde quiera \n",
    "with open(\"dict_table\",\"wb\") as output:\n",
    "    pickle.dump(dict_tablas,output)"
   ]
  },
  {
   "attachments": {},
   "cell_type": "markdown",
   "metadata": {},
   "source": [
    "### TODAVIA NO SE QUE PONER ACA "
   ]
  },
  {
   "cell_type": "code",
   "execution_count": 12,
   "metadata": {},
   "outputs": [],
   "source": [
    "from bs4 import BeautifulSoup as BS\n",
    "import requests"
   ]
  },
  {
   "cell_type": "code",
   "execution_count": 17,
   "metadata": {},
   "outputs": [],
   "source": [
    "web=\"https://en.wikipedia.org/wiki/2014_FIFA_World_Cup\"\n",
    "respons =requests.get(web)\n",
    "content= respons.text\n",
    "soup=BS(content,\"lxml\")\n",
    "\n",
    "matches =soup.find_all(\"div\",class_=\"footballbox\")  ##identificacion de patro para extraer info dentro de una pagina web \n",
    "\n",
    "## Creacion de listas vacias para guardar los resultados de la extraccion \n",
    "home=[]\n",
    "score=[]\n",
    "away=[]\n",
    "## Este for lo que hace es extraer el nombre de los equipos y guardarlos en las listas vacias creadas anteriormente \n",
    "for match in matches:\n",
    "    home.append(match.find('th',class_=\"fhome\").get_text()) ##Extraer nombre del equipo local\n",
    "    score.append(match.find('th',class_=\"fscore\").get_text()) ##Extraer puntaje\n",
    "    away.append(match.find('th',class_=\"faway\").get_text())  ##Extraer nombre equipo visitante    "
   ]
  },
  {
   "cell_type": "code",
   "execution_count": 18,
   "metadata": {},
   "outputs": [],
   "source": [
    "## Creacion de diccionario para guardar las listas creadas en el punto anterior\n",
    "dict_football = {\"home\":home,\"score\":score,\"away\":away}\n",
    "## se crea un data frame con el nombre del diccionario\n",
    "df_football=pd.DataFrame(dict_football)\n",
    "## Se añade una columna al dataframe como año, el cual representa el año de donde se saco la info \n",
    "df_football[\"year\"]=\"2014\""
   ]
  },
  {
   "cell_type": "code",
   "execution_count": 19,
   "metadata": {},
   "outputs": [
    {
     "data": {
      "text/html": [
       "<div>\n",
       "<style scoped>\n",
       "    .dataframe tbody tr th:only-of-type {\n",
       "        vertical-align: middle;\n",
       "    }\n",
       "\n",
       "    .dataframe tbody tr th {\n",
       "        vertical-align: top;\n",
       "    }\n",
       "\n",
       "    .dataframe thead th {\n",
       "        text-align: right;\n",
       "    }\n",
       "</style>\n",
       "<table border=\"1\" class=\"dataframe\">\n",
       "  <thead>\n",
       "    <tr style=\"text-align: right;\">\n",
       "      <th></th>\n",
       "      <th>home</th>\n",
       "      <th>score</th>\n",
       "      <th>away</th>\n",
       "      <th>year</th>\n",
       "    </tr>\n",
       "  </thead>\n",
       "  <tbody>\n",
       "    <tr>\n",
       "      <th>0</th>\n",
       "      <td>Brazil</td>\n",
       "      <td>3–1</td>\n",
       "      <td>Croatia</td>\n",
       "      <td>2014</td>\n",
       "    </tr>\n",
       "    <tr>\n",
       "      <th>1</th>\n",
       "      <td>Mexico</td>\n",
       "      <td>1–0</td>\n",
       "      <td>Cameroon</td>\n",
       "      <td>2014</td>\n",
       "    </tr>\n",
       "    <tr>\n",
       "      <th>2</th>\n",
       "      <td>Brazil</td>\n",
       "      <td>0–0</td>\n",
       "      <td>Mexico</td>\n",
       "      <td>2014</td>\n",
       "    </tr>\n",
       "    <tr>\n",
       "      <th>3</th>\n",
       "      <td>Cameroon</td>\n",
       "      <td>0–4</td>\n",
       "      <td>Croatia</td>\n",
       "      <td>2014</td>\n",
       "    </tr>\n",
       "    <tr>\n",
       "      <th>4</th>\n",
       "      <td>Cameroon</td>\n",
       "      <td>1–4</td>\n",
       "      <td>Brazil</td>\n",
       "      <td>2014</td>\n",
       "    </tr>\n",
       "    <tr>\n",
       "      <th>...</th>\n",
       "      <td>...</td>\n",
       "      <td>...</td>\n",
       "      <td>...</td>\n",
       "      <td>...</td>\n",
       "    </tr>\n",
       "    <tr>\n",
       "      <th>59</th>\n",
       "      <td>Netherlands</td>\n",
       "      <td>0–0 (a.e.t.)</td>\n",
       "      <td>Costa Rica</td>\n",
       "      <td>2014</td>\n",
       "    </tr>\n",
       "    <tr>\n",
       "      <th>60</th>\n",
       "      <td>Brazil</td>\n",
       "      <td>1–7</td>\n",
       "      <td>Germany</td>\n",
       "      <td>2014</td>\n",
       "    </tr>\n",
       "    <tr>\n",
       "      <th>61</th>\n",
       "      <td>Netherlands</td>\n",
       "      <td>0–0 (a.e.t.)</td>\n",
       "      <td>Argentina</td>\n",
       "      <td>2014</td>\n",
       "    </tr>\n",
       "    <tr>\n",
       "      <th>62</th>\n",
       "      <td>Brazil</td>\n",
       "      <td>0–3</td>\n",
       "      <td>Netherlands</td>\n",
       "      <td>2014</td>\n",
       "    </tr>\n",
       "    <tr>\n",
       "      <th>63</th>\n",
       "      <td>Germany</td>\n",
       "      <td>1–0 (a.e.t.)</td>\n",
       "      <td>Argentina</td>\n",
       "      <td>2014</td>\n",
       "    </tr>\n",
       "  </tbody>\n",
       "</table>\n",
       "<p>64 rows × 4 columns</p>\n",
       "</div>"
      ],
      "text/plain": [
       "            home         score          away  year\n",
       "0        Brazil            3–1       Croatia  2014\n",
       "1        Mexico            1–0      Cameroon  2014\n",
       "2        Brazil            0–0        Mexico  2014\n",
       "3      Cameroon            0–4       Croatia  2014\n",
       "4      Cameroon            1–4        Brazil  2014\n",
       "..           ...           ...           ...   ...\n",
       "59  Netherlands   0–0 (a.e.t.)    Costa Rica  2014\n",
       "60       Brazil            1–7       Germany  2014\n",
       "61  Netherlands   0–0 (a.e.t.)     Argentina  2014\n",
       "62       Brazil            0–3   Netherlands  2014\n",
       "63      Germany   1–0 (a.e.t.)     Argentina  2014\n",
       "\n",
       "[64 rows x 4 columns]"
      ]
     },
     "execution_count": 19,
     "metadata": {},
     "output_type": "execute_result"
    }
   ],
   "source": [
    "df_football"
   ]
  },
  {
   "cell_type": "code",
   "execution_count": 20,
   "metadata": {},
   "outputs": [],
   "source": [
    "## listo el mundial 2014, pero ahora se quiere sacar toda la info de todos los mundiales, para ello \n",
    "## Se crea una funcion: \n",
    "def get_matches(year):\n",
    "    web= f\"https://en.wikipedia.org/wiki/{year}_FIFA_World_Cup\"\n",
    "    respons =requests.get(web)\n",
    "    content= respons.text\n",
    "    soup=BS(content,\"lxml\")\n",
    "\n",
    "    matches =soup.find_all(\"div\",class_=\"footballbox\")  ##identificacion de patro para extraer info dentro de una pagina web \n",
    "\n",
    "## Creacion de listas vacias para guardar los resultados de la extraccion \n",
    "    home=[]\n",
    "    score=[]\n",
    "    away=[]\n",
    "## Este for lo que hace es extraer el nombre de los equipos y guardarlos en las listas vacias creadas anteriormente \n",
    "    for match in matches:\n",
    "        home.append(match.find('th',class_=\"fhome\").get_text()) ##Extraer nombre del equipo local\n",
    "        score.append(match.find('th',class_=\"fscore\").get_text()) ##Extraer puntaje\n",
    "        away.append(match.find('th',class_=\"faway\").get_text())  ##Extraer nombre equipo visitante   \n",
    "    ## Creacion de diccionario para guardar las listas creadas en el punto anterior\n",
    "    dict_football = {\"home\":home,\"score\":score,\"away\":away}\n",
    "## se crea un data frame con el nombre del diccionario\n",
    "    df_football=pd.DataFrame(dict_football)\n",
    "## Se añade una columna al dataframe como año, el cual representa el año de donde se saco la info \n",
    "    df_football[\"year\"]=year \n",
    "    return df_football\n"
   ]
  },
  {
   "cell_type": "code",
   "execution_count": 29,
   "metadata": {},
   "outputs": [
    {
     "name": "stdout",
     "output_type": "stream",
     "text": [
      "              home score            away  year\n",
      "0          Brazil    4–0          Mexico  1950\n",
      "1      Yugoslavia    3–0     Switzerland  1950\n",
      "2          Brazil    2–2     Switzerland  1950\n",
      "3      Yugoslavia    4–1          Mexico  1950\n",
      "4          Brazil    2–0      Yugoslavia  1950\n",
      "5     Switzerland    2–1          Mexico  1950\n",
      "6         England    2–0           Chile  1950\n",
      "7           Spain    3–1   United States  1950\n",
      "8           Spain    2–0           Chile  1950\n",
      "9   United States    1–0         England  1950\n",
      "10          Spain    1–0         England  1950\n",
      "11          Chile    5–2   United States  1950\n",
      "12         Sweden    3–2           Italy  1950\n",
      "13         Sweden    2–2        Paraguay  1950\n",
      "14          Italy    2–0        Paraguay  1950\n",
      "15        Uruguay    8–0         Bolivia  1950\n",
      "16        Uruguay    2–2           Spain  1950\n",
      "17         Brazil    7–1          Sweden  1950\n",
      "18         Brazil    6–1           Spain  1950\n",
      "19        Uruguay    3–2          Sweden  1950\n",
      "20         Sweden    3–1           Spain  1950\n",
      "21        Uruguay    2–1          Brazil  1950\n"
     ]
    }
   ],
   "source": [
    "## Aca se puede ver que si funciona al momento de insertar un año cualquiera! :) \n",
    "print(get_matches(1950))"
   ]
  },
  {
   "cell_type": "code",
   "execution_count": 30,
   "metadata": {},
   "outputs": [],
   "source": [
    "## extraccion de todos los partidos de todos los años ! \n",
    "years=[1930,1934,1938,1950,1954,1958,1962,1966,1970,1974,1978,1982,1986,1990,1994,1998,2002,2006,2010,2014,2018]\n",
    "fifa=[get_matches(year) for year in years]\n",
    "df_fifa = pd.concat(fifa,ignore_index=True)## ayuda a concatenar los dataframes que se van creando \n",
    "    "
   ]
  },
  {
   "cell_type": "code",
   "execution_count": 32,
   "metadata": {},
   "outputs": [],
   "source": [
    "## Se pasa el dataframe a un archivo csv \n",
    "df_fifa.to_csv(\"fifa_historical_data.csv\",index=False)"
   ]
  },
  {
   "cell_type": "code",
   "execution_count": 40,
   "metadata": {},
   "outputs": [],
   "source": [
    "## Extraer el fixture del 2022\n",
    "\n",
    "web= f\"https://web.archive.org/web/20221115040351/https://en.wikipedia.org/wiki/2022_FIFA_World_Cup\"\n",
    "respons =requests.get(web)\n",
    "content= respons.text\n",
    "soup=BS(content,\"lxml\")\n",
    "\n",
    "matches =soup.find_all(\"div\",class_=\"footballbox\")  ##identificacion de patro para extraer info dentro de una pagina web \n",
    "\n",
    "## Creacion de listas vacias para guardar los resultados de la extraccion \n",
    "home=[]\n",
    "score=[]\n",
    "away=[]\n",
    "## Este for lo que hace es extraer el nombre de los equipos y guardarlos en las listas vacias creadas anteriormente \n",
    "for match in matches:\n",
    "    home.append(match.find('th',class_=\"fhome\").get_text()) ##Extraer nombre del equipo local\n",
    "    score.append(match.find('th',class_=\"fscore\").get_text()) ##Extraer puntaje\n",
    "    away.append(match.find('th',class_=\"faway\").get_text())  ##Extraer nombre equipo visitante   \n",
    "    ## Creacion de diccionario para guardar las listas creadas en el punto anterior\n",
    "dict_fixture_2022 = {\"home\":home,\"score\":score,\"away\":away}\n",
    "## se crea un data frame con el nombre del diccionario\n",
    "df_fixture_2022=pd.DataFrame(dict_fixture_2022)\n",
    "## Se añade una columna al dataframe como año, el cual representa el año de donde se saco la info \n",
    "df_fixture_2022[\"year\"]=2022\n",
    "   "
   ]
  },
  {
   "cell_type": "code",
   "execution_count": 43,
   "metadata": {},
   "outputs": [],
   "source": [
    "df_fixture_2022.to_csv(\"Fifa_worldcup_fixture.csv\",index=False)"
   ]
  },
  {
   "cell_type": "code",
   "execution_count": null,
   "metadata": {},
   "outputs": [],
   "source": []
  },
  {
   "cell_type": "code",
   "execution_count": 14,
   "metadata": {},
   "outputs": [],
   "source": []
  }
 ],
 "metadata": {
  "kernelspec": {
   "display_name": "Python 3",
   "language": "python",
   "name": "python3"
  },
  "language_info": {
   "codemirror_mode": {
    "name": "ipython",
    "version": 3
   },
   "file_extension": ".py",
   "mimetype": "text/x-python",
   "name": "python",
   "nbconvert_exporter": "python",
   "pygments_lexer": "ipython3",
   "version": "3.10.10"
  },
  "orig_nbformat": 4,
  "vscode": {
   "interpreter": {
    "hash": "d8dcf9e06e7b3d376df4e058bb1fe95bbaac89e367ed4cb775863a19bfd90304"
   }
  }
 },
 "nbformat": 4,
 "nbformat_minor": 2
}
