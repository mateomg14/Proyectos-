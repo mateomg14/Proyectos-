{
 "cells": [
  {
   "cell_type": "markdown",
   "id": "4d4b5ae9-30ec-42c6-a9aa-417165c0a091",
   "metadata": {},
   "source": [
    "# Intro e isntalacion de Python "
   ]
  },
  {
   "cell_type": "code",
   "execution_count": 1,
   "id": "7309c1fa-42ce-481e-ac7e-b57af85c6b9d",
   "metadata": {},
   "outputs": [
    {
     "data": {
      "text/plain": [
       "16"
      ]
     },
     "execution_count": 1,
     "metadata": {},
     "output_type": "execute_result"
    }
   ],
   "source": [
    "8+8"
   ]
  },
  {
   "cell_type": "code",
   "execution_count": 3,
   "id": "4a91eff0-8082-4517-a1c9-592c77cebdd6",
   "metadata": {},
   "outputs": [
    {
     "data": {
      "text/plain": [
       "2864"
      ]
     },
     "execution_count": 3,
     "metadata": {},
     "output_type": "execute_result"
    }
   ],
   "source": [
    "56*51+8"
   ]
  }
 ],
 "metadata": {
  "kernelspec": {
   "display_name": "Python 3 (ipykernel)",
   "language": "python",
   "name": "python3"
  },
  "language_info": {
   "codemirror_mode": {
    "name": "ipython",
    "version": 3
   },
   "file_extension": ".py",
   "mimetype": "text/x-python",
   "name": "python",
   "nbconvert_exporter": "python",
   "pygments_lexer": "ipython3",
   "version": "3.9.13"
  }
 },
 "nbformat": 4,
 "nbformat_minor": 5
}
