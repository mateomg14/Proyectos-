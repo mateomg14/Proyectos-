{
 "cells": [
  {
   "attachments": {},
   "cell_type": "markdown",
   "metadata": {},
   "source": [
    "## CONEXION A LA BASE DE DATOS "
   ]
  },
  {
   "cell_type": "code",
   "execution_count": 98,
   "metadata": {},
   "outputs": [],
   "source": [
    "import mysql.connector as sql"
   ]
  },
  {
   "cell_type": "code",
   "execution_count": 99,
   "metadata": {},
   "outputs": [
    {
     "name": "stdout",
     "output_type": "stream",
     "text": [
      "<mysql.connector.connection.MySQLConnection object at 0x000002767DF1A7A0>\n",
      "('datos',)\n",
      "('db_index',)\n",
      "('ejemplo_datos',)\n",
      "('information_schema',)\n",
      "('myfirstdb',)\n",
      "('mysql',)\n",
      "('performance_schema',)\n",
      "('periodos',)\n",
      "('practicas',)\n",
      "('proveedores',)\n",
      "('pysql',)\n",
      "('record_company',)\n",
      "('ropa_linea',)\n",
      "('sys',)\n"
     ]
    }
   ],
   "source": [
    "db = sql.connect(user='m.martinez11',password='gotenssj5',host='localhost', database='pysql',port='3306')\n",
    "\n",
    "print(db)\n",
    "\n",
    "try: \n",
    "    cursor=db.cursor()\n",
    "except sql.Error as e:\n",
    "    print(\"Error:Could not get curser to the DataBase\")\n",
    "    print(e)\n",
    "\n",
    "try:\n",
    "    cursor.execute(\"SHOW DATABASES\")\n",
    "    for x in cursor:\n",
    "        print(x)\n",
    "except sql.Error as e:\n",
    "    print(e)"
   ]
  },
  {
   "cell_type": "code",
   "execution_count": 80,
   "metadata": {},
   "outputs": [
    {
     "name": "stdout",
     "output_type": "stream",
     "text": [
      "('clienti',)\n"
     ]
    }
   ],
   "source": [
    "try:\n",
    "    cursor.execute(\"SHOW TABLES\")\n",
    "    for x in cursor:\n",
    "        print(x)\n",
    "except sql.Error as e:\n",
    "    print(\"Error:Issue creating table\")\n",
    "    print(e)"
   ]
  },
  {
   "attachments": {},
   "cell_type": "markdown",
   "metadata": {},
   "source": [
    "## Procedimiento para ejecutar querys "
   ]
  },
  {
   "cell_type": "code",
   "execution_count": 76,
   "metadata": {},
   "outputs": [],
   "source": [
    "try: \n",
    "    cursor=db.cursor()\n",
    "except sql.Error as e:\n",
    "    print(\"Error:Could not get curser to the DataBase\")\n",
    "    print(e)"
   ]
  },
  {
   "cell_type": "code",
   "execution_count": 8,
   "metadata": {},
   "outputs": [],
   "source": [
    "try:\n",
    "    cursor.execute(\"CREATE DATABASE pysql;\")\n",
    "except sql.Error as e:\n",
    "    print(e)"
   ]
  },
  {
   "attachments": {},
   "cell_type": "markdown",
   "metadata": {},
   "source": [
    "## CREACION DE TABLAS "
   ]
  },
  {
   "cell_type": "code",
   "execution_count": 19,
   "metadata": {},
   "outputs": [],
   "source": [
    "try:\n",
    "    cursor.execute(\"CREATE TABLE IF NOT EXISTS clienti (id INT AUTO_INCREMENT PRIMARY KEY , name VARCHAR(255));\")\n",
    "except sql.Error as e:\n",
    "    print(\"Error:Issue creating table\")\n",
    "    print(e)\n"
   ]
  },
  {
   "cell_type": "code",
   "execution_count": 23,
   "metadata": {},
   "outputs": [],
   "source": [
    "try:\n",
    "    cursor.execute(\"ALTER TABLE clienti ADD coname VARCHAR(255);\")\n",
    "except sql.Error as e:\n",
    "    print(\"Error:Issue creating table\")\n",
    "    print(e)"
   ]
  },
  {
   "attachments": {},
   "cell_type": "markdown",
   "metadata": {},
   "source": [
    "## INSERTAR DATOS EN UNA TABLA!"
   ]
  },
  {
   "attachments": {},
   "cell_type": "markdown",
   "metadata": {},
   "source": [
    "##### INSERTAR LOS DATOS\n",
    "##### INSERTO MULTIPLE \n",
    "##### RECIBIR ID DE UNA FILA DETERMINADA "
   ]
  },
  {
   "cell_type": "code",
   "execution_count": 33,
   "metadata": {},
   "outputs": [
    {
     "name": "stdout",
     "output_type": "stream",
     "text": [
      "id fila insertada: 8\n"
     ]
    }
   ],
   "source": [
    "sql = \" INSERT INTO clienti (name, coname) VALUES (%s,%s)\"\n",
    "values = (\"Luca\",\"Rossi\")\n",
    "try:\n",
    "    cursor.execute(sql,values)\n",
    "except sql.Error as e:\n",
    "    print(\"Error\")\n",
    "    print(e)\n",
    "\n",
    "db.commit() ##Actualizar las tablas \n",
    "print( \"id fila insertada:\",cursor.lastrowid)"
   ]
  },
  {
   "cell_type": "code",
   "execution_count": 27,
   "metadata": {},
   "outputs": [],
   "source": [
    "sql = \" INSERT INTO clienti (name, coname) VALUES (%s,%s)\"\n",
    "values = [(\"Caro\",\"Mar\"),\n",
    "          (\"Mateo\",\"Mart\"),\n",
    "          (\"Ism\",\"Cruz\"),\n",
    "          (\"Giovanni\",\"Culo\")\n",
    "          ]\n",
    "try:\n",
    "    cursor.executemany(sql,values)\n",
    "except sql.Error as e:\n",
    "    print(\"Error\")\n",
    "    print(e)"
   ]
  },
  {
   "attachments": {},
   "cell_type": "markdown",
   "metadata": {},
   "source": [
    "### seleccionar datos en una tabla con condiciones "
   ]
  },
  {
   "cell_type": "code",
   "execution_count": 97,
   "metadata": {},
   "outputs": [
    {
     "ename": "AttributeError",
     "evalue": "'str' object has no attribute 'Error'",
     "output_type": "error",
     "traceback": [
      "\u001b[1;31m---------------------------------------------------------------------------\u001b[0m",
      "\u001b[1;31mInternalError\u001b[0m                             Traceback (most recent call last)",
      "Cell \u001b[1;32mIn[97], line 4\u001b[0m\n\u001b[0;32m      3\u001b[0m \u001b[39mtry\u001b[39;00m:\n\u001b[1;32m----> 4\u001b[0m     cursor\u001b[39m.\u001b[39;49mexecute(sql)\n\u001b[0;32m      5\u001b[0m \u001b[39mexcept\u001b[39;00m sql\u001b[39m.\u001b[39mError \u001b[39mas\u001b[39;00m e:\n",
      "File \u001b[1;32m~\\AppData\\Local\\Packages\\PythonSoftwareFoundation.Python.3.10_qbz5n2kfra8p0\\LocalCache\\local-packages\\Python310\\site-packages\\mysql\\connector\\cursor.py:582\u001b[0m, in \u001b[0;36mMySQLCursor.execute\u001b[1;34m(self, operation, params, multi)\u001b[0m\n\u001b[0;32m    580\u001b[0m     \u001b[39mraise\u001b[39;00m ProgrammingError(\u001b[39m\"\u001b[39m\u001b[39mCursor is not connected\u001b[39m\u001b[39m\"\u001b[39m) \u001b[39mfrom\u001b[39;00m \u001b[39merr\u001b[39;00m\n\u001b[1;32m--> 582\u001b[0m \u001b[39mself\u001b[39;49m\u001b[39m.\u001b[39;49m_connection\u001b[39m.\u001b[39;49mhandle_unread_result()\n\u001b[0;32m    584\u001b[0m \u001b[39mself\u001b[39m\u001b[39m.\u001b[39m_reset_result()\n",
      "File \u001b[1;32m~\\AppData\\Local\\Packages\\PythonSoftwareFoundation.Python.3.10_qbz5n2kfra8p0\\LocalCache\\local-packages\\Python310\\site-packages\\mysql\\connector\\connection.py:1711\u001b[0m, in \u001b[0;36mMySQLConnection.handle_unread_result\u001b[1;34m(self)\u001b[0m\n\u001b[0;32m   1710\u001b[0m \u001b[39melif\u001b[39;00m \u001b[39mself\u001b[39m\u001b[39m.\u001b[39munread_result:\n\u001b[1;32m-> 1711\u001b[0m     \u001b[39mraise\u001b[39;00m InternalError(\u001b[39m\"\u001b[39m\u001b[39mUnread result found\u001b[39m\u001b[39m\"\u001b[39m)\n",
      "\u001b[1;31mInternalError\u001b[0m: Unread result found",
      "\nDuring handling of the above exception, another exception occurred:\n",
      "\u001b[1;31mAttributeError\u001b[0m                            Traceback (most recent call last)",
      "Cell \u001b[1;32mIn[97], line 5\u001b[0m\n\u001b[0;32m      3\u001b[0m \u001b[39mtry\u001b[39;00m:\n\u001b[0;32m      4\u001b[0m     cursor\u001b[39m.\u001b[39mexecute(sql)\n\u001b[1;32m----> 5\u001b[0m \u001b[39mexcept\u001b[39;00m sql\u001b[39m.\u001b[39;49mError \u001b[39mas\u001b[39;00m e:\n\u001b[0;32m      6\u001b[0m     \u001b[39mprint\u001b[39m(\u001b[39m\"\u001b[39m\u001b[39mError\u001b[39m\u001b[39m\"\u001b[39m)\n\u001b[0;32m      7\u001b[0m     \u001b[39mprint\u001b[39m(e)\n",
      "\u001b[1;31mAttributeError\u001b[0m: 'str' object has no attribute 'Error'"
     ]
    }
   ],
   "source": [
    "### traer datos de una tabla \n",
    "sql = \"SELECT * FROM clienti \"\n",
    "try:\n",
    "    cursor.execute(sql)\n",
    "except sql.Error as e:\n",
    "    print(\"Error\")\n",
    "    print(e)\n",
    "\n",
    "result=cursor.fetchall()\n",
    "for fila in result:\n",
    "    print(fila)"
   ]
  },
  {
   "cell_type": "code",
   "execution_count": 96,
   "metadata": {},
   "outputs": [
    {
     "name": "stdout",
     "output_type": "stream",
     "text": [
      "1\n",
      "Luca\n",
      "Rossi\n"
     ]
    }
   ],
   "source": [
    "### traer la primera linea de la tabla de datos  \n",
    "sql = \"SELECT * FROM clienti \"\n",
    "try:\n",
    "    cursor.execute(sql)\n",
    "except sql.Error as e:\n",
    "    print(\"Error\")\n",
    "    print(e)\n",
    "\n",
    "result=cursor.fetchone()\n",
    "for fila in result:\n",
    "    print(fila)"
   ]
  },
  {
   "cell_type": "code",
   "execution_count": 100,
   "metadata": {},
   "outputs": [
    {
     "name": "stdout",
     "output_type": "stream",
     "text": [
      "(5, 'Giovanni')\n"
     ]
    }
   ],
   "source": [
    "query = \"SELECT id, name FROM clienti WHERE coname = 'Culo' \"\n",
    "cursor.execute(query)\n",
    "result1=cursor.fetchall()\n",
    "for fila in result1:\n",
    "    print(fila)"
   ]
  },
  {
   "attachments": {},
   "cell_type": "markdown",
   "metadata": {},
   "source": [
    "## Order by and Limit "
   ]
  },
  {
   "cell_type": "code",
   "execution_count": 104,
   "metadata": {},
   "outputs": [
    {
     "name": "stdout",
     "output_type": "stream",
     "text": [
      "(2, 'Caro', 'Mar')\n",
      "(5, 'Giovanni', 'Culo')\n",
      "(4, 'Ism', 'Cruz')\n",
      "(1, 'Luca', 'Rossi')\n",
      "(6, 'Luca', 'Rossi')\n",
      "(7, 'Luca', 'Rossi')\n",
      "(8, 'Luca', 'Rossi')\n",
      "(3, 'Mateo', 'Mart')\n"
     ]
    }
   ],
   "source": [
    "import mysql.connector as sql\n",
    "db = sql.connect(user='m.martinez11',password='gotenssj5',host='localhost', database='pysql',port='3306')\n",
    "try: \n",
    "    cursor=db.cursor()\n",
    "except sql.Error as e:\n",
    "    print(\"Error:Could not get curser to the DataBase\")\n",
    "    print(e)\n",
    "\n",
    "query=\"SELECT * FROM clienti ORDER BY name\"\n",
    "cursor.execute(query)\n",
    "resultado=cursor.fetchall()\n",
    "for fila in resultado:\n",
    "    print(fila)"
   ]
  },
  {
   "cell_type": "code",
   "execution_count": 139,
   "metadata": {},
   "outputs": [],
   "source": [
    "import mysql.connector as sql\n",
    "import numpy as np\n",
    "import pandas as pd\n",
    "db = sql.connect(user='m.martinez11',password='gotenssj5',host='localhost', database='pysql',port='3306')\n",
    "try: \n",
    "    cursor=db.cursor()\n",
    "except sql.Error as e:\n",
    "    print(\"Error:Could not get curser to the DataBase\")\n",
    "    print(e)\n",
    "\n",
    "query=\"SELECT * FROM clienti ORDER BY id\"\n",
    "cursor.execute(query)\n",
    "resultado=cursor.fetchall()\n",
    "tupla_multi=()\n",
    "for fila in resultado:\n",
    "    tupla_multi += fila\n",
    "    \n"
   ]
  },
  {
   "cell_type": "code",
   "execution_count": 148,
   "metadata": {},
   "outputs": [
    {
     "data": {
      "text/html": [
       "<div>\n",
       "<style scoped>\n",
       "    .dataframe tbody tr th:only-of-type {\n",
       "        vertical-align: middle;\n",
       "    }\n",
       "\n",
       "    .dataframe tbody tr th {\n",
       "        vertical-align: top;\n",
       "    }\n",
       "\n",
       "    .dataframe thead th {\n",
       "        text-align: right;\n",
       "    }\n",
       "</style>\n",
       "<table border=\"1\" class=\"dataframe\">\n",
       "  <thead>\n",
       "    <tr style=\"text-align: right;\">\n",
       "      <th></th>\n",
       "      <th>id</th>\n",
       "      <th>Nombre</th>\n",
       "      <th>Sexo</th>\n",
       "    </tr>\n",
       "  </thead>\n",
       "  <tbody>\n",
       "    <tr>\n",
       "      <th>0</th>\n",
       "      <td>1</td>\n",
       "      <td>Luca</td>\n",
       "      <td>Rossi</td>\n",
       "    </tr>\n",
       "    <tr>\n",
       "      <th>1</th>\n",
       "      <td>3</td>\n",
       "      <td>Mateo</td>\n",
       "      <td>Mart</td>\n",
       "    </tr>\n",
       "    <tr>\n",
       "      <th>2</th>\n",
       "      <td>4</td>\n",
       "      <td>Ism</td>\n",
       "      <td>Cruz</td>\n",
       "    </tr>\n",
       "    <tr>\n",
       "      <th>3</th>\n",
       "      <td>5</td>\n",
       "      <td>Giovanni</td>\n",
       "      <td>Culo</td>\n",
       "    </tr>\n",
       "    <tr>\n",
       "      <th>4</th>\n",
       "      <td>6</td>\n",
       "      <td>Luca</td>\n",
       "      <td>Rossi</td>\n",
       "    </tr>\n",
       "    <tr>\n",
       "      <th>5</th>\n",
       "      <td>7</td>\n",
       "      <td>Luca</td>\n",
       "      <td>Rossi</td>\n",
       "    </tr>\n",
       "    <tr>\n",
       "      <th>6</th>\n",
       "      <td>8</td>\n",
       "      <td>Luca</td>\n",
       "      <td>Rossi</td>\n",
       "    </tr>\n",
       "  </tbody>\n",
       "</table>\n",
       "</div>"
      ],
      "text/plain": [
       "   id    Nombre   Sexo\n",
       "0   1      Luca  Rossi\n",
       "1   3     Mateo   Mart\n",
       "2   4       Ism   Cruz\n",
       "3   5  Giovanni   Culo\n",
       "4   6      Luca  Rossi\n",
       "5   7      Luca  Rossi\n",
       "6   8      Luca  Rossi"
      ]
     },
     "execution_count": 148,
     "metadata": {},
     "output_type": "execute_result"
    }
   ],
   "source": [
    "import mysql.connector as sql\n",
    "import numpy as np\n",
    "import pandas as pd\n",
    "db = sql.connect(user='m.martinez11',password='gotenssj5',host='localhost', database='pysql',port='3306')\n",
    "try: \n",
    "    cursor=db.cursor()\n",
    "except sql.Error as e:\n",
    "    print(\"Error:Could not get curser to the DataBase\")\n",
    "    print(e)\n",
    "\n",
    "query=\"SELECT * FROM clienti ORDER BY id\"\n",
    "cursor.execute(query)\n",
    "resultado=cursor.fetchall()\n",
    "df=pd.DataFrame(resultado,columns=[\"id\",\"Nombre\",\"Sexo\"])\n",
    "df=df.reset_index(drop=True)\n",
    "df"
   ]
  },
  {
   "cell_type": "code",
   "execution_count": 137,
   "metadata": {},
   "outputs": [
    {
     "name": "stdout",
     "output_type": "stream",
     "text": [
      "[(1, 'Juan', 'M'), (2, 'Maria', 'F'), (3, 'Pedro', 'M'), (4, 'Mateo', 'M'), (5, 'Caro', 'F')]\n"
     ]
    }
   ],
   "source": [
    "mi_tupla = [(1, \"Juan\", \"M\"), (2, \"Maria\", \"F\"), (3, \"Pedro\", \"M\")]\n",
    "tupla3= (4,\"Mateo\",\"M\")\n",
    "tupla4=(5,\"Caro\",\"F\")\n",
    "mi_tupla += (tupla3 , tupla4)\n",
    "print(mi_tupla)"
   ]
  },
  {
   "attachments": {},
   "cell_type": "markdown",
   "metadata": {},
   "source": [
    "## Eliminar datos "
   ]
  },
  {
   "cell_type": "code",
   "execution_count": 106,
   "metadata": {},
   "outputs": [
    {
     "name": "stdout",
     "output_type": "stream",
     "text": [
      "Numero de filas eliminadas: 1\n"
     ]
    }
   ],
   "source": [
    "import mysql.connector as sql\n",
    "db = sql.connect(user='m.martinez11',password='gotenssj5',host='localhost', database='pysql',port='3306') \n",
    "cursor=db.cursor()\n",
    "\n",
    "query=\"DELETE FROM clienti WHERE name ='Caro'\"\n",
    "cursor.execute(query)\n",
    "db.commit()\n",
    "print(\"Numero de filas eliminadas:\",cursor.rowcount)"
   ]
  }
 ],
 "metadata": {
  "kernelspec": {
   "display_name": "Python 3",
   "language": "python",
   "name": "python3"
  },
  "language_info": {
   "codemirror_mode": {
    "name": "ipython",
    "version": 3
   },
   "file_extension": ".py",
   "mimetype": "text/x-python",
   "name": "python",
   "nbconvert_exporter": "python",
   "pygments_lexer": "ipython3",
   "version": "3.10.10"
  },
  "orig_nbformat": 4
 },
 "nbformat": 4,
 "nbformat_minor": 2
}
