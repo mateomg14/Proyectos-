{
 "cells": [
  {
   "cell_type": "markdown",
   "id": "69901415-871c-4128-94ba-7cb605818be1",
   "metadata": {},
   "source": [
    "# 4.- Funciones"
   ]
  },
  {
   "cell_type": "markdown",
   "id": "82a4386e-b878-475e-b82d-03dbcb9d44d3",
   "metadata": {},
   "source": [
    "## 4.2.- Función def"
   ]
  },
  {
   "cell_type": "markdown",
   "id": "8e864b12-a5a9-4cde-b565-a59929d9d7eb",
   "metadata": {},
   "source": [
    "Vamos a comenzar creando una funcion que tome un número y devuelva su raiz cuadrada"
   ]
  },
  {
   "cell_type": "code",
   "execution_count": 1,
   "id": "c555a87f-f94f-4dfb-ac88-4bd40e1f2c96",
   "metadata": {},
   "outputs": [],
   "source": [
    "def raizcuadrada(numero):\n",
    "    \"\"\"Esta funcion saca la raiz cuadrada de un numero \"\"\"\n",
    "    return numero**(1/2)"
   ]
  },
  {
   "cell_type": "code",
   "execution_count": 2,
   "id": "315753b7-f2b8-46d8-a61c-499e912f468a",
   "metadata": {},
   "outputs": [
    {
     "data": {
      "text/plain": [
       "3.1622776601683795"
      ]
     },
     "execution_count": 2,
     "metadata": {},
     "output_type": "execute_result"
    }
   ],
   "source": [
    "raizcuadrada(10)"
   ]
  },
  {
   "cell_type": "markdown",
   "id": "a034c45f-dd3c-4e3b-b4b5-4c266b7eb003",
   "metadata": {},
   "source": [
    "Las funciones también las podemos llamar desde otras expresiones como print"
   ]
  },
  {
   "cell_type": "code",
   "execution_count": 4,
   "id": "24499624-16fa-4b44-b50d-a0a77dd65543",
   "metadata": {},
   "outputs": [
    {
     "name": "stdout",
     "output_type": "stream",
     "text": [
      "la raiz cuadrada de 100 es  10.0\n"
     ]
    }
   ],
   "source": [
    "print(\"la raiz cuadrada de 100 es \", raizcuadrada(100))"
   ]
  },
  {
   "cell_type": "markdown",
   "id": "5fa7a304-a3ac-49f8-a9c7-985ff3cd4738",
   "metadata": {},
   "source": [
    "Muchas funciones podemos ? para saber como se usa la función"
   ]
  },
  {
   "cell_type": "code",
   "execution_count": 5,
   "id": "48187ac5-0ca4-4412-9b2c-8dc240a0a891",
   "metadata": {},
   "outputs": [
    {
     "data": {
      "text/plain": [
       "\u001b[1;31mSignature:\u001b[0m \u001b[0mraizcuadrada\u001b[0m\u001b[1;33m(\u001b[0m\u001b[0mnumero\u001b[0m\u001b[1;33m)\u001b[0m\u001b[1;33m\u001b[0m\u001b[1;33m\u001b[0m\u001b[0m\n",
       "\u001b[1;31mDocstring:\u001b[0m Esta funcion saca la raiz cuadrada de un numero \n",
       "\u001b[1;31mFile:\u001b[0m      c:\\users\\mmart\\appdata\\local\\temp\\ipykernel_20392\\3022561544.py\n",
       "\u001b[1;31mType:\u001b[0m      function\n"
      ]
     },
     "metadata": {},
     "output_type": "display_data"
    }
   ],
   "source": [
    "raizcuadrada?"
   ]
  },
  {
   "cell_type": "markdown",
   "id": "55e03a1c-54ea-4685-b6e0-1880a7073360",
   "metadata": {},
   "source": [
    "#### Por tu cuenta\n",
    "\n",
    "Define una función que calcule la raiz cubica de un numero dado"
   ]
  },
  {
   "cell_type": "code",
   "execution_count": 6,
   "id": "3e9e8b00-c189-400d-b1ba-467fe444b379",
   "metadata": {},
   "outputs": [],
   "source": [
    "def raizcubica(numero):\n",
    "    \"\"\"Esta funcion saca la raiz ccubo de un numero \"\"\"\n",
    "    return numero**(1/3)"
   ]
  },
  {
   "cell_type": "code",
   "execution_count": 7,
   "id": "3b7ece1c-8e0a-4ea0-8166-64dd75e4661a",
   "metadata": {},
   "outputs": [
    {
     "data": {
      "text/plain": [
       "4.641588833612778"
      ]
     },
     "execution_count": 7,
     "metadata": {},
     "output_type": "execute_result"
    }
   ],
   "source": [
    "raizcubica(100)"
   ]
  },
  {
   "cell_type": "markdown",
   "id": "dc1856d4-be0c-4cc6-b217-10fb4bab5fe6",
   "metadata": {},
   "source": [
    "## 4.3.- Funciones con Múltiples Parámetros"
   ]
  },
  {
   "cell_type": "markdown",
   "id": "1f12cc0d-bd8e-45a9-b1b8-f976783ccf4f",
   "metadata": {},
   "source": [
    "Ahora armaremos una función usando IF que nos dice cual es la raiz cuadrada más grande de 3 números"
   ]
  },
  {
   "cell_type": "code",
   "execution_count": 8,
   "id": "8f4f0077-7108-42ce-942e-e12ee8744582",
   "metadata": {},
   "outputs": [],
   "source": [
    "def raizgrande(num1,num2,num3):\n",
    "    \"\"\"Esta funcion regresa el numero mas grande de 3 raices \"\"\"\n",
    "    rnum1 = num1**(1/2)\n",
    "    rnum2 = num2**(1/2)\n",
    "    rnum3 = num3**(1/2)\n",
    "    \n",
    "    raizmax = rnum1\n",
    "    if rnum2>rnum1:\n",
    "        raizmax=rnum2\n",
    "    if rnum3 > raizmax:\n",
    "        raizmax=rnum3\n",
    "    return raizmax\n",
    "    "
   ]
  },
  {
   "cell_type": "code",
   "execution_count": 9,
   "id": "8d9ccb53-92c1-4ff9-9202-543fa6c640d3",
   "metadata": {},
   "outputs": [
    {
     "data": {
      "text/plain": [
       "10.0"
      ]
     },
     "execution_count": 9,
     "metadata": {},
     "output_type": "execute_result"
    }
   ],
   "source": [
    "raizgrande(81,64,100)"
   ]
  },
  {
   "cell_type": "markdown",
   "id": "21bdb948-fa7a-4c21-9acb-6ae8266aa3e6",
   "metadata": {},
   "source": [
    "Por si las dudas, esto se podría haber simplificado usando Max y Min"
   ]
  },
  {
   "cell_type": "code",
   "execution_count": 10,
   "id": "8a495cc4-00c7-4cfb-9d0c-c35dea9683ae",
   "metadata": {},
   "outputs": [
    {
     "data": {
      "text/plain": [
       "100"
      ]
     },
     "execution_count": 10,
     "metadata": {},
     "output_type": "execute_result"
    }
   ],
   "source": [
    "max(81,64,100)"
   ]
  },
  {
   "cell_type": "code",
   "execution_count": 11,
   "id": "1242a788-f538-4949-a483-8bbdb57ec9f8",
   "metadata": {},
   "outputs": [
    {
     "data": {
      "text/plain": [
       "64"
      ]
     },
     "execution_count": 11,
     "metadata": {},
     "output_type": "execute_result"
    }
   ],
   "source": [
    "min(81,64,100)"
   ]
  },
  {
   "cell_type": "markdown",
   "id": "83d18c4c-e99c-4f4c-a0dc-41b41f50c6ed",
   "metadata": {},
   "source": [
    "#### Por tu cuenta\n",
    "\n",
    "Llama la función max con la lista 15,82,13,55 como argumento, yluego la min con la palabara amarillo como argumento"
   ]
  },
  {
   "cell_type": "code",
   "execution_count": 12,
   "id": "c4bbc22c-b6b2-40c7-9111-981363bf8bb0",
   "metadata": {},
   "outputs": [],
   "source": [
    "def maximo(num1,num2,num3,num4):\n",
    "    \"\"\"esta funcion trae el maximo de una lista de numeros\"\"\"\n",
    "    return max(num1,num2,num3,num4)"
   ]
  },
  {
   "cell_type": "code",
   "execution_count": 13,
   "id": "bdb289a7-091b-4359-90f4-a489c2e71917",
   "metadata": {},
   "outputs": [
    {
     "data": {
      "text/plain": [
       "82"
      ]
     },
     "execution_count": 13,
     "metadata": {},
     "output_type": "execute_result"
    }
   ],
   "source": [
    "maximo(15,82,13,55)"
   ]
  },
  {
   "cell_type": "markdown",
   "id": "2d356f80-2d18-4849-a3dd-4253cb4edcd6",
   "metadata": {},
   "source": [
    "## 4.4.- Números aleatorios"
   ]
  },
  {
   "cell_type": "markdown",
   "id": "c7ad0802-525b-4399-8fc7-454593d86ae9",
   "metadata": {},
   "source": [
    "Vamos a simular el lanzamiento de una moneda (cara o cruz), usemos la biblioteca random y simulemos 10 tiros"
   ]
  },
  {
   "cell_type": "code",
   "execution_count": 14,
   "id": "3a8bd37e-3b1a-499b-88c3-c3063b1c2f72",
   "metadata": {},
   "outputs": [],
   "source": [
    "import random "
   ]
  },
  {
   "cell_type": "code",
   "execution_count": 17,
   "id": "efd3d47a-b8cb-4e82-ac33-b7802b1cdd40",
   "metadata": {},
   "outputs": [
    {
     "name": "stdout",
     "output_type": "stream",
     "text": [
      "1, 0, 1, 1, 1, 0, 0, 1, 1, 1, "
     ]
    }
   ],
   "source": [
    "for tirada in range(10):\n",
    "    print(random.randrange(0,2), end = \", \")"
   ]
  },
  {
   "cell_type": "markdown",
   "id": "05cefe11-289a-44e2-a987-b443cce37ce3",
   "metadata": {},
   "source": [
    "Ejecutalo de nuevo, checa como ahora tenemos diferentes resultados"
   ]
  },
  {
   "cell_type": "markdown",
   "id": "4e02ace3-df9d-41aa-87bd-6fd2daa2d0a4",
   "metadata": {},
   "source": [
    "Ahora vamos a escribir un código que simule el lanzamiento de una moneda 100,000 veces. No vamos a mostrar 100,000 resultados, solo una pequeña tabla con todas las caras y todas la cruces"
   ]
  },
  {
   "cell_type": "code",
   "execution_count": 22,
   "id": "70ee75bc-9a07-4c56-af3b-38cc3efcd256",
   "metadata": {},
   "outputs": [
    {
     "name": "stdout",
     "output_type": "stream",
     "text": [
      "La cantidad de aguila es  50191\n",
      "La cantidad de aguila es  49809\n"
     ]
    }
   ],
   "source": [
    "import random\n",
    "\n",
    "contadoraguila = 0    ## se definen los contadores \n",
    "contadorsello = 0 \n",
    "\n",
    "for tiro in range(100000):   ## para cienmil lanzamientos \n",
    "    resultado = random.randrange(0,2)  ## resultado es igual a 0 o 1 \n",
    "    if resultado ==1:                   ## si resultado es igual a 1 que se me guarde en el contador \n",
    "        contadoraguila +=1\n",
    "    elif resultado==0:\n",
    "        contadorsello +=1                ## si es igual a 0 que se me guarde en el otro contador \n",
    "print(\"La cantidad de aguila es \", contadoraguila)  ## se puede mostrar los resultados de esta manera pero es muy aburrido, entonces abajo se puede ver otra manera \n",
    "print(\"La cantidad de aguila es \", contadorsello)"
   ]
  },
  {
   "cell_type": "code",
   "execution_count": 42,
   "id": "f6518ded-f5a9-46ed-8754-3b267089d1e2",
   "metadata": {},
   "outputs": [
    {
     "name": "stdout",
     "output_type": "stream",
     "text": [
      "1=aguila, 0=Sello     frecuencia\n",
      "             1        50064\n",
      "             0        49936\n"
     ]
    }
   ],
   "source": [
    "import random\n",
    "\n",
    "contadoraguila = 0    ## se definen los contadores \n",
    "contadorsello = 0 \n",
    "\n",
    "for tiro in range(100000):   ## para cienmil lanzamientos \n",
    "    resultado = random.randrange(0,2)  ## resultado es igual a 0 o 1 \n",
    "    if resultado ==1:                   ## si resultado es igual a 1 que se me guarde en el contador \n",
    "        contadoraguila +=1\n",
    "    elif resultado==0:\n",
    "        contadorsello +=1                ## si es igual a 0 que se me guarde en el otro contador \n",
    "print(f'1=aguila, 0=Sello  {\"frecuencia\":>13}')\n",
    "print(f'{1:>14}{contadoraguila:>13}')\n",
    "print(f'{0:>14}{contadorsello:>13}')"
   ]
  },
  {
   "cell_type": "markdown",
   "id": "5ac8c289-07af-4305-a7b0-a47f551d142a",
   "metadata": {},
   "source": [
    "Si queremos obligar a que random sieeeempre nos de los mismos resultados, podemos usar seed. Arma una semilla de 25 y ejecuta el código 2 veces, checa como se repita (seed necesita repetirse 2 veces tmb)"
   ]
  },
  {
   "cell_type": "code",
   "execution_count": 41,
   "id": "06562bd7-2288-4e71-b817-55aeae5017b4",
   "metadata": {},
   "outputs": [
    {
     "name": "stdout",
     "output_type": "stream",
     "text": [
      "1, 0, 0, 1, 0, 1, 1, 0, 0, 1, "
     ]
    }
   ],
   "source": [
    "random.seed(30) ## forzar a que siempre de el mismo numero de tiros al azar, dependiendo del numero que se ponga ahi sea cual sea \n",
    "for tirada in range(10):\n",
    "    print(random.randrange(0,2), end = \", \")"
   ]
  },
  {
   "cell_type": "markdown",
   "id": "ae4f4e14-ebd5-45f8-a8e4-9b31641a0af1",
   "metadata": {},
   "source": [
    "Es momento de jugar a \"El Gran 8\". \n",
    "\n",
    "Lo primero será lanzar un par de dados - arma una función que simule 2 dados y devuelva los valores que cayeron"
   ]
  },
  {
   "cell_type": "code",
   "execution_count": 140,
   "id": "44c389f7-533c-4e00-b434-636560313ebd",
   "metadata": {},
   "outputs": [],
   "source": [
    "def lanzamiento():\n",
    "    dado1=random.randrange(1,7)\n",
    "    dado2=random.randrange(1,7)\n",
    "    return dado1, dado2    ### va a botar un vector en forma de ( num, num)"
   ]
  },
  {
   "cell_type": "code",
   "execution_count": 141,
   "id": "fa30c0e0-0780-4321-986e-9589dabec878",
   "metadata": {},
   "outputs": [
    {
     "data": {
      "text/plain": [
       "(6, 5)"
      ]
     },
     "execution_count": 141,
     "metadata": {},
     "output_type": "execute_result"
    }
   ],
   "source": [
    "lanzamiento()"
   ]
  },
  {
   "cell_type": "markdown",
   "id": "6c524cee-4fb0-496d-b33b-343a1b9d6d62",
   "metadata": {},
   "source": [
    "Ahora arma una función que muestre la suma de los resultados de los 2 dados"
   ]
  },
  {
   "cell_type": "code",
   "execution_count": 147,
   "id": "f64c316a-f793-41ed-a4c0-68d014fbe816",
   "metadata": {},
   "outputs": [],
   "source": [
    "def suma(dado):\n",
    "    dado1,dado2=dado\n",
    "    print(f'El resultado de la jugada es {dado1} + {dado2} = {sum(dado)}')"
   ]
  },
  {
   "cell_type": "markdown",
   "id": "c5eb4532-dce4-4397-b753-223bb5030a8f",
   "metadata": {},
   "source": [
    "Ahora necesitamos una variable que almacene el resutlado de lanzar los dados (funcion 1) y otra que sume los resultados de la función 1."
   ]
  },
  {
   "cell_type": "code",
   "execution_count": 153,
   "id": "9f51af4c-2def-494b-b7a2-9201414a4019",
   "metadata": {},
   "outputs": [
    {
     "name": "stdout",
     "output_type": "stream",
     "text": [
      "El resultado de la jugada es 6 + 5 = 11\n"
     ]
    }
   ],
   "source": [
    "valores_logrados = lanzamiento() ## aca el vector se le asigna a una variable \n",
    "suma(valores_logrados) ##como se habia definido los valores entonces es el valor de entrada !!"
   ]
  },
  {
   "cell_type": "markdown",
   "id": "21576096-58ea-4bd7-9e1b-bbe197aa08f2",
   "metadata": {},
   "source": [
    "Ahora, vamos  a simular las consecuencias del primer tiro - si la suma es 8, ganaste, si es 7, perdiste, y si no, continuamos"
   ]
  },
  {
   "cell_type": "code",
   "execution_count": 161,
   "id": "b35649ce-62bb-48fe-904a-089dccb42867",
   "metadata": {},
   "outputs": [
    {
     "name": "stdout",
     "output_type": "stream",
     "text": [
      "El resultado de la jugada es 3 + 3 = 6\n",
      "sigue jugando, encuentra al gran 8\n"
     ]
    },
    {
     "data": {
      "text/plain": [
       "'continuar'"
      ]
     },
     "execution_count": 161,
     "metadata": {},
     "output_type": "execute_result"
    }
   ],
   "source": [
    "valores_logrados = lanzamiento()\n",
    "suma(valores_logrados)\n",
    "suma_dados = sum(valores_logrados)\n",
    "\n",
    "if suma_dados ==8:\n",
    "    status_jugador =\"Ganaste\"\n",
    "elif suma_dados==7:\n",
    "    status_jugador = \"perdiste\"\n",
    "else:\n",
    "    status_jugador = \"continuar\"\n",
    "    print(\"sigue jugando, encuentra al gran 8\")\n",
    "status_jugador"
   ]
  },
  {
   "cell_type": "markdown",
   "id": "34507a56-d650-4156-b1f2-d485a9b3634e",
   "metadata": {},
   "source": [
    "Y ahora con un bucle vamos a seguir el juego, se relanzan los dados y si se hace un bucle while que mientras que no haya un resultado de 6,8, o 7, se sigue tirando, si no se define si se ganó o se perdió"
   ]
  },
  {
   "cell_type": "code",
   "execution_count": 166,
   "id": "0142cde5-6158-4c73-bbf4-e2d48efcd532",
   "metadata": {},
   "outputs": [
    {
     "name": "stdout",
     "output_type": "stream",
     "text": [
      "El resultado de la jugada es 2 + 2 = 4\n",
      "sigue jugando, encuentra al gran 8\n",
      "El resultado de la jugada es 4 + 5 = 9\n",
      "El resultado de la jugada es 6 + 5 = 11\n",
      "El resultado de la jugada es 2 + 3 = 5\n",
      "El resultado de la jugada es 2 + 3 = 5\n",
      "El resultado de la jugada es 3 + 6 = 9\n",
      "El resultado de la jugada es 2 + 3 = 5\n",
      "El resultado de la jugada es 6 + 5 = 11\n",
      "El resultado de la jugada es 6 + 3 = 9\n",
      "El resultado de la jugada es 2 + 4 = 6\n",
      "El resultado de la jugada es 2 + 6 = 8\n",
      "el resultado es Ganaste\n"
     ]
    }
   ],
   "source": [
    "valores_logrados = lanzamiento()\n",
    "suma(valores_logrados)\n",
    "suma_dados = sum(valores_logrados)\n",
    "\n",
    "if suma_dados ==8:\n",
    "    status_jugador =\"Ganaste\"\n",
    "elif suma_dados==7:\n",
    "    status_jugador = \"perdiste\"\n",
    "else:\n",
    "    status_jugador = \"continuar\"\n",
    "    print(\"sigue jugando, encuentra al gran 8\")\n",
    "while status_jugador == \"continuar\":\n",
    "    valores_logrados = lanzamiento()\n",
    "    suma(valores_logrados)\n",
    "    suma_dados = sum(valores_logrados)\n",
    "    if suma_dados ==8:\n",
    "        status_jugador =\"Ganaste\"\n",
    "    elif suma_dados==7:\n",
    "        status_jugador = \"perdiste\"\n",
    "print(\"el resultado es\", status_jugador)\n"
   ]
  },
  {
   "cell_type": "markdown",
   "id": "e330a41d-998a-4dd8-a8b9-51d255f0464d",
   "metadata": {},
   "source": [
    "Ahora unifica todo el código"
   ]
  },
  {
   "cell_type": "markdown",
   "id": "6c9e079c-3683-4901-a856-0bc24d2ea3b5",
   "metadata": {},
   "source": [
    "#### Por tu cuenta\n",
    "\n",
    "Usa un bucle for, randrange y una expresión condicional para simular 20 tiros de moneda, mosrando A para águila y S para Sello"
   ]
  },
  {
   "cell_type": "code",
   "execution_count": 181,
   "id": "24ea22a4-3fea-416b-af85-6a026c4ca9e7",
   "metadata": {},
   "outputs": [
    {
     "name": "stdout",
     "output_type": "stream",
     "text": [
      "A, S, S, A, A, S, A, S, A, A, A, S, A, A, S, S, S, S, A, A, "
     ]
    }
   ],
   "source": [
    "for i in range(20):\n",
    "    print(\"A\" if random.randrange(2)==0 else \"S\", end=\", \")\n",
    "    ## los if de una sola consecuencia puden mostrarse como en una liena completa !!!\n",
    "               "
   ]
  },
  {
   "cell_type": "markdown",
   "id": "902a0cb5-4b49-40f2-b285-afd87b760f18",
   "metadata": {},
   "source": [
    "## 4.5.- Funciones sin parámetros y múltiples parámetros"
   ]
  },
  {
   "cell_type": "markdown",
   "id": "71dd025d-bf4b-4c68-99b5-0cb72614740e",
   "metadata": {},
   "source": [
    "def raizcuadra(numero):\n",
    "    \"\"\"Esta función saca la raiz cuadra de un número\"\"\"\n",
    "    return numero ** (1/2)Se acuerdan de la primer funcion que hicimos? Que pasa si la corremos sin parametro?"
   ]
  },
  {
   "cell_type": "code",
   "execution_count": 184,
   "id": "e381d145-b1cb-46c5-99b9-9f83e90964bd",
   "metadata": {},
   "outputs": [],
   "source": [
    "def raizcuadrada(numero=1): ## poniendole =1 aignifica que el valor default en caso de no poner nada va a ser igual a 1\n",
    "    \"\"\"Esta funcion saca la raiz cuadrada de un numero \"\"\"\n",
    "    return numero**(1/2)"
   ]
  },
  {
   "cell_type": "code",
   "execution_count": 185,
   "id": "4b642fdf-9360-4196-9a89-c717e6bf1bda",
   "metadata": {},
   "outputs": [
    {
     "data": {
      "text/plain": [
       "1.0"
      ]
     },
     "execution_count": 185,
     "metadata": {},
     "output_type": "execute_result"
    }
   ],
   "source": [
    "raizcuadrada()"
   ]
  },
  {
   "cell_type": "markdown",
   "id": "010114c1-509a-4cc1-a388-ca28850d9932",
   "metadata": {},
   "source": [
    "Asigna un parametro estandar para evitar este error"
   ]
  },
  {
   "cell_type": "markdown",
   "id": "6c3d4102-a3b3-40de-a916-1df8e54b4a29",
   "metadata": {},
   "source": [
    "También, hay funciones que pueden aceptar una cantidad indefinida de parametros - arma una función llamada promedio_calif que te diga el promedio de una cantidad arbitraria de calificaciones"
   ]
  },
  {
   "cell_type": "code",
   "execution_count": 186,
   "id": "a3fc7b58-87e9-441e-9772-14f961c0f1b4",
   "metadata": {},
   "outputs": [],
   "source": [
    "def promediocalif(*calif): ## te pueden dar todos los parametros que quieras \n",
    "    promedio =sum(calif)/len(calif)            ## len() nos permite determinar el largo de una cadena \n",
    "    return promedio"
   ]
  },
  {
   "cell_type": "code",
   "execution_count": 187,
   "id": "27b2e996-20e0-4093-99f6-dbf330689d39",
   "metadata": {},
   "outputs": [
    {
     "data": {
      "text/plain": [
       "56.5"
      ]
     },
     "execution_count": 187,
     "metadata": {},
     "output_type": "execute_result"
    }
   ],
   "source": [
    "promediocalif(55,94,94,58,38,28,37,48)"
   ]
  },
  {
   "cell_type": "markdown",
   "id": "e3f6b2e9-4ed4-4c34-81b1-e60ca1b59bff",
   "metadata": {},
   "source": [
    "#### Por tu cuenta\n",
    "\n",
    "Arma una función que reciba una cantidad arbitraria de argumentos y calcule el producto de multiplicarlos todos entre ellos"
   ]
  },
  {
   "cell_type": "code",
   "execution_count": 189,
   "id": "1e1d13b9-3cb1-43e5-9cf9-b6da52643a78",
   "metadata": {},
   "outputs": [],
   "source": [
    "def multiplicacion(*param):  \n",
    "    prod=1        ## nos permite determinar el largo de una cadena \n",
    "    for valores in param:  ##para cada uno de los valores en param multiplicalos por si mismo \n",
    "        prod *= valores\n",
    "        \n",
    "    \n",
    "    return prod"
   ]
  },
  {
   "cell_type": "code",
   "execution_count": 190,
   "id": "0be5568a-6d23-4fcb-bbde-8c8fd120828d",
   "metadata": {},
   "outputs": [
    {
     "data": {
      "text/plain": [
       "24"
      ]
     },
     "execution_count": 190,
     "metadata": {},
     "output_type": "execute_result"
    }
   ],
   "source": [
    "multiplicacion(2,3,4)"
   ]
  },
  {
   "cell_type": "code",
   "execution_count": 191,
   "id": "359a984c-facf-40fe-8be7-7fd05ba08c34",
   "metadata": {},
   "outputs": [
    {
     "ename": "NameError",
     "evalue": "name 'param' is not defined",
     "output_type": "error",
     "traceback": [
      "\u001b[1;31m---------------------------------------------------------------------------\u001b[0m",
      "\u001b[1;31mNameError\u001b[0m                                 Traceback (most recent call last)",
      "\u001b[1;32m~\\AppData\\Local\\Temp\\ipykernel_20392\\3267381344.py\u001b[0m in \u001b[0;36m<module>\u001b[1;34m\u001b[0m\n\u001b[1;32m----> 1\u001b[1;33m \u001b[0mparam\u001b[0m\u001b[1;33m\u001b[0m\u001b[1;33m\u001b[0m\u001b[0m\n\u001b[0m",
      "\u001b[1;31mNameError\u001b[0m: name 'param' is not defined"
     ]
    }
   ],
   "source": []
  },
  {
   "cell_type": "markdown",
   "id": "6892461b-49af-466b-b947-2e649586b5d5",
   "metadata": {},
   "source": [
    "## 4.6.- Alcance Local y Global"
   ]
  },
  {
   "cell_type": "markdown",
   "id": "1c759b58-4b0f-4e11-9a61-af3ee94a26e6",
   "metadata": {},
   "source": [
    "Recordemos nuestra función de raiz cuadrada"
   ]
  },
  {
   "cell_type": "code",
   "execution_count": 192,
   "id": "47693ade-1834-4d6f-b5d2-1582b62d02af",
   "metadata": {},
   "outputs": [],
   "source": [
    "def raizcuadrada(numero=1): ## poniendole =1 aignifica que el valor default en caso de no poner nada va a ser igual a 1\n",
    "    \"\"\"Esta funcion saca la raiz cuadrada de un numero \"\"\"\n",
    "    return numero**(1/2)"
   ]
  },
  {
   "cell_type": "code",
   "execution_count": 193,
   "id": "0fff8b16-95e3-4138-be6d-4e7296ba2535",
   "metadata": {},
   "outputs": [
    {
     "data": {
      "text/plain": [
       "8.0"
      ]
     },
     "execution_count": 193,
     "metadata": {},
     "output_type": "execute_result"
    }
   ],
   "source": [
    "raizcuadrada(64) ## sin embargo el resultado de esta funcion se pierde y no se puede volver a llamar como \"numero\" "
   ]
  },
  {
   "cell_type": "code",
   "execution_count": 194,
   "id": "390db399-8b11-49e4-9d96-09597a3ed6c4",
   "metadata": {},
   "outputs": [
    {
     "ename": "NameError",
     "evalue": "name 'numero' is not defined",
     "output_type": "error",
     "traceback": [
      "\u001b[1;31m---------------------------------------------------------------------------\u001b[0m",
      "\u001b[1;31mNameError\u001b[0m                                 Traceback (most recent call last)",
      "\u001b[1;32m~\\AppData\\Local\\Temp\\ipykernel_20392\\337151178.py\u001b[0m in \u001b[0;36m<module>\u001b[1;34m\u001b[0m\n\u001b[1;32m----> 1\u001b[1;33m \u001b[0mnumero\u001b[0m\u001b[1;33m\u001b[0m\u001b[1;33m\u001b[0m\u001b[0m\n\u001b[0m",
      "\u001b[1;31mNameError\u001b[0m: name 'numero' is not defined"
     ]
    }
   ],
   "source": [
    "numero ## si llamamos a la variable numero va a dar error , es una variable de alcance local \n"
   ]
  },
  {
   "cell_type": "code",
   "execution_count": 196,
   "id": "d8fc0616-47e6-49d1-a9d3-b3509686734c",
   "metadata": {},
   "outputs": [],
   "source": [
    "aproxpi= 3.1416"
   ]
  },
  {
   "cell_type": "code",
   "execution_count": 197,
   "id": "3b536999-dbf9-4b0d-ba9e-ed349124837a",
   "metadata": {},
   "outputs": [
    {
     "data": {
      "text/plain": [
       "3.1416"
      ]
     },
     "execution_count": 197,
     "metadata": {},
     "output_type": "execute_result"
    }
   ],
   "source": [
    "aproxpi  ###Variable de alcance global "
   ]
  },
  {
   "cell_type": "code",
   "execution_count": 198,
   "id": "9583cbc4-7839-4a44-b549-582437f1e17f",
   "metadata": {},
   "outputs": [],
   "source": [
    "def areacirculo(radio):\n",
    "    return aproxpi*radio*radio  ## aca se llama a la variable aproxpi "
   ]
  },
  {
   "cell_type": "code",
   "execution_count": 199,
   "id": "f4dcf9c9-8e0f-41c3-9fe9-ba08e16b6666",
   "metadata": {},
   "outputs": [
    {
     "data": {
      "text/plain": [
       "28.2744"
      ]
     },
     "execution_count": 199,
     "metadata": {},
     "output_type": "execute_result"
    }
   ],
   "source": [
    "areacirculo(3)"
   ]
  },
  {
   "cell_type": "code",
   "execution_count": 200,
   "id": "c51d8d48-1463-4ebb-9cc5-87390cffed33",
   "metadata": {},
   "outputs": [],
   "source": [
    "def modifacrpi():\n",
    "    aproxpi=3\n",
    "    return aproxpi   ## si intentamos modificar la variable en una funcion "
   ]
  },
  {
   "cell_type": "code",
   "execution_count": 201,
   "id": "2398a2f5-66f1-40a8-9a14-8c01332cc77d",
   "metadata": {},
   "outputs": [
    {
     "data": {
      "text/plain": [
       "3.1416"
      ]
     },
     "execution_count": 201,
     "metadata": {},
     "output_type": "execute_result"
    }
   ],
   "source": [
    "aproxpi  ## pero si lo llamamos de nuevo me va a lanzar el primer pi que habiamos definido, ya que esta es una variable global "
   ]
  },
  {
   "cell_type": "code",
   "execution_count": null,
   "id": "c1821b5d-62f8-4b06-a3cc-51b3a6911f97",
   "metadata": {},
   "outputs": [],
   "source": []
  },
  {
   "cell_type": "markdown",
   "id": "92d9d3b6-d1ae-480d-9026-b605aa24245f",
   "metadata": {},
   "source": [
    "Define la variable aprox pi =3.141 y luego define una función que llame a esta variable de acceso global"
   ]
  },
  {
   "cell_type": "markdown",
   "id": "90a3042c-1f46-4ef1-9f19-9cae0aeae31f",
   "metadata": {},
   "source": [
    "Intenta modificar aprox pi desde una función - verás que python no lo hace, solo modifica una copia"
   ]
  },
  {
   "cell_type": "markdown",
   "id": "5e3fc9f1-f1c8-419e-a7ad-ad015daa9ada",
   "metadata": {},
   "source": [
    "## 4.7.- El módulo de matemáticas de Python"
   ]
  },
  {
   "cell_type": "markdown",
   "id": "66a15356-6461-4202-a7d0-56526d3c1536",
   "metadata": {},
   "source": [
    "Calcula el log10 de 1000, modulo de matematicas para que nos permita utilizar "
   ]
  },
  {
   "cell_type": "code",
   "execution_count": 202,
   "id": "d04ec048-5865-4040-a3f2-3b3cbcb1d40a",
   "metadata": {},
   "outputs": [
    {
     "ename": "NameError",
     "evalue": "name 'log10' is not defined",
     "output_type": "error",
     "traceback": [
      "\u001b[1;31m---------------------------------------------------------------------------\u001b[0m",
      "\u001b[1;31mNameError\u001b[0m                                 Traceback (most recent call last)",
      "\u001b[1;32m~\\AppData\\Local\\Temp\\ipykernel_20392\\1848773233.py\u001b[0m in \u001b[0;36m<module>\u001b[1;34m\u001b[0m\n\u001b[1;32m----> 1\u001b[1;33m \u001b[0mlog10\u001b[0m\u001b[1;33m(\u001b[0m\u001b[1;36m1000\u001b[0m\u001b[1;33m)\u001b[0m\u001b[1;33m\u001b[0m\u001b[1;33m\u001b[0m\u001b[0m\n\u001b[0m",
      "\u001b[1;31mNameError\u001b[0m: name 'log10' is not defined"
     ]
    }
   ],
   "source": [
    "log10(1000)"
   ]
  },
  {
   "cell_type": "markdown",
   "id": "2db1131d-227b-46fe-aa43-ea83fd7ff1bc",
   "metadata": {},
   "source": [
    "Importa la librería math"
   ]
  },
  {
   "cell_type": "code",
   "execution_count": 203,
   "id": "4252d1a8-4e52-43d1-a5a4-045def644677",
   "metadata": {},
   "outputs": [],
   "source": [
    "import math"
   ]
  },
  {
   "cell_type": "markdown",
   "id": "4cebaf0a-a127-4a90-971a-a306d39ebc10",
   "metadata": {},
   "source": [
    "ahora si, calcula el log10 de 1000"
   ]
  },
  {
   "cell_type": "code",
   "execution_count": 204,
   "id": "47bf2d24-fcb4-4907-92e7-af142e2afded",
   "metadata": {},
   "outputs": [
    {
     "data": {
      "text/plain": [
       "3.0"
      ]
     },
     "execution_count": 204,
     "metadata": {},
     "output_type": "execute_result"
    }
   ],
   "source": [
    "math.log10(1000) ## se debe siempre poner la libreria y el punto despues para llamar una funcion de esta libreria !!!"
   ]
  },
  {
   "cell_type": "markdown",
   "id": "1494d2e2-c5f0-4426-bd28-3ccea38d7b09",
   "metadata": {},
   "source": [
    "## 4.8.- Medidas de tendencia central y Dispersión"
   ]
  },
  {
   "cell_type": "markdown",
   "id": "68b9172a-f029-4f3c-83d1-545ff8937e5a",
   "metadata": {},
   "source": [
    "Importa la librería d eestadistica, y crea una lista de calificaciones aleatorias entre 50 y 100"
   ]
  },
  {
   "cell_type": "code",
   "execution_count": 205,
   "id": "06d77b88-6f25-4ee2-81c9-deb91bde85d4",
   "metadata": {},
   "outputs": [],
   "source": [
    "import statistics"
   ]
  },
  {
   "cell_type": "code",
   "execution_count": 207,
   "id": "f97606b2-ef6b-4edd-8804-1c7ee8ed8a8d",
   "metadata": {},
   "outputs": [],
   "source": [
    "calificaciones = [21,32,4,34,21,43,65,76,54,34,43,64,86,45]"
   ]
  },
  {
   "cell_type": "markdown",
   "id": "77e5a078-1a94-4fc1-acb0-4ae291e3ea0c",
   "metadata": {},
   "source": [
    "Calcula las medidas de tendencia central"
   ]
  },
  {
   "cell_type": "code",
   "execution_count": 208,
   "id": "71ead86f-ae6c-4d80-b2f3-84e97a2da6dc",
   "metadata": {},
   "outputs": [
    {
     "data": {
      "text/plain": [
       "44.42857142857143"
      ]
     },
     "execution_count": 208,
     "metadata": {},
     "output_type": "execute_result"
    }
   ],
   "source": [
    "statistics.mean(calificaciones) ##promedio"
   ]
  },
  {
   "cell_type": "code",
   "execution_count": 209,
   "id": "15fef420-f8d8-4ca5-b930-d7bf55599981",
   "metadata": {},
   "outputs": [
    {
     "data": {
      "text/plain": [
       "43.0"
      ]
     },
     "execution_count": 209,
     "metadata": {},
     "output_type": "execute_result"
    }
   ],
   "source": [
    "statistics.median(calificaciones) ##mediana"
   ]
  },
  {
   "cell_type": "code",
   "execution_count": 210,
   "id": "a403f894-ffc6-4178-afa5-31196d3f6658",
   "metadata": {},
   "outputs": [
    {
     "data": {
      "text/plain": [
       "21"
      ]
     },
     "execution_count": 210,
     "metadata": {},
     "output_type": "execute_result"
    }
   ],
   "source": [
    "statistics.mode(calificaciones) ##moda"
   ]
  },
  {
   "cell_type": "code",
   "execution_count": 211,
   "id": "5114b379-bf8f-4d8a-87b7-661aebff641f",
   "metadata": {},
   "outputs": [
    {
     "data": {
      "text/plain": [
       "82"
      ]
     },
     "execution_count": 211,
     "metadata": {},
     "output_type": "execute_result"
    }
   ],
   "source": [
    "max(calificaciones)-min(calificaciones) ## rango de las calificaciones"
   ]
  },
  {
   "cell_type": "code",
   "execution_count": 212,
   "id": "ce777bc3-971b-47ef-a1e2-d49d61ac4ea0",
   "metadata": {},
   "outputs": [
    {
     "data": {
      "text/plain": [
       "22.75526747375644"
      ]
     },
     "execution_count": 212,
     "metadata": {},
     "output_type": "execute_result"
    }
   ],
   "source": [
    "statistics.stdev(calificaciones) ##desviacion estandar muestral"
   ]
  },
  {
   "cell_type": "code",
   "execution_count": 213,
   "id": "7c7f936e-3358-44ec-a376-2599a709b63d",
   "metadata": {},
   "outputs": [
    {
     "data": {
      "text/plain": [
       "21.927524404971305"
      ]
     },
     "execution_count": 213,
     "metadata": {},
     "output_type": "execute_result"
    }
   ],
   "source": [
    "statistics.pstdev(calificaciones) ##desviacion estandar poblacional"
   ]
  },
  {
   "cell_type": "code",
   "execution_count": 214,
   "id": "507bb032-5721-4674-a889-b3bf53eeb86f",
   "metadata": {},
   "outputs": [
    {
     "data": {
      "text/plain": [
       "480.81632653061223"
      ]
     },
     "execution_count": 214,
     "metadata": {},
     "output_type": "execute_result"
    }
   ],
   "source": [
    "statistics.pvariance(calificaciones) ##varianza poblacional"
   ]
  },
  {
   "cell_type": "code",
   "execution_count": 215,
   "id": "b45bb0c6-7f7b-49a6-8c0b-d2e45989c3e3",
   "metadata": {},
   "outputs": [
    {
     "data": {
      "text/plain": [
       "517.8021978021978"
      ]
     },
     "execution_count": 215,
     "metadata": {},
     "output_type": "execute_result"
    }
   ],
   "source": [
    "statistics.variance(calificaciones) ##varianza muestral"
   ]
  },
  {
   "cell_type": "markdown",
   "id": "d0b2cda1-016b-4f15-8663-586820f6aae0",
   "metadata": {},
   "source": [
    "Calcula las medidas de dispersión"
   ]
  },
  {
   "cell_type": "markdown",
   "id": "e55f2a84-65b1-4e86-b4d4-9be69022fdc2",
   "metadata": {},
   "source": [
    "#### Por tu cuenta\n",
    "\n",
    "Para los numeros del 1 al 20, calcula la varianza y la desviacion estandar - compara con la varianza poblacional y la desviacion estandar poblacional"
   ]
  }
 ],
 "metadata": {
  "kernelspec": {
   "display_name": "Python 3 (ipykernel)",
   "language": "python",
   "name": "python3"
  },
  "language_info": {
   "codemirror_mode": {
    "name": "ipython",
    "version": 3
   },
   "file_extension": ".py",
   "mimetype": "text/x-python",
   "name": "python",
   "nbconvert_exporter": "python",
   "pygments_lexer": "ipython3",
   "version": "3.9.13"
  }
 },
 "nbformat": 4,
 "nbformat_minor": 5
}
